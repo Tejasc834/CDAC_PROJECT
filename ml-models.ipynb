{
 "cells": [
  {
   "cell_type": "markdown",
   "metadata": {},
   "source": [
    "# Libraries"
   ]
  },
  {
   "cell_type": "code",
   "execution_count": 1,
   "metadata": {},
   "outputs": [],
   "source": [
    "import pandas as pd\n",
    "import numpy as np\n",
    "import time\n",
    "from tqdm import tqdm\n",
    "import matplotlib\n",
    "import matplotlib.pyplot as plt\n",
    "\n",
    "#libraries for preprocessing\n",
    "from sklearn import preprocessing\n",
    "from sklearn.preprocessing import StandardScaler\n",
    "from sklearn.preprocessing import MinMaxScaler\n",
    "\n",
    "#libraries for evaluation\n",
    "from sklearn.metrics import mean_squared_log_error,r2_score,mean_squared_error\n",
    "from sklearn.model_selection import train_test_split\n",
    "\n",
    "\n",
    "#libraries for models\n",
    "from sklearn.linear_model import LinearRegression\n",
    "\n",
    "from sklearn.linear_model import Ridge\n",
    "from sklearn.linear_model import LassoCV,RidgeCV\n",
    "\n",
    "from sklearn.linear_model import Lasso\n",
    "\n",
    "from sklearn.neighbors import KNeighborsRegressor\n",
    "\n",
    "from sklearn.ensemble import RandomForestRegressor\n",
    "\n",
    "from sklearn.ensemble import BaggingRegressor\n",
    "from sklearn.tree import DecisionTreeRegressor\n",
    "from sklearn.svm import SVR\n",
    "\n",
    "from sklearn.ensemble import AdaBoostRegressor\n",
    "\n",
    "import xgboost as xgb\n",
    "\n",
    "import warnings\n",
    "warnings.filterwarnings('ignore')"
   ]
  },
  {
   "cell_type": "code",
   "execution_count": 2,
   "metadata": {},
   "outputs": [
    {
     "data": {
      "text/html": [
       "<div>\n",
       "<style scoped>\n",
       "    .dataframe tbody tr th:only-of-type {\n",
       "        vertical-align: middle;\n",
       "    }\n",
       "\n",
       "    .dataframe tbody tr th {\n",
       "        vertical-align: top;\n",
       "    }\n",
       "\n",
       "    .dataframe thead th {\n",
       "        text-align: right;\n",
       "    }\n",
       "</style>\n",
       "<table border=\"1\" class=\"dataframe\">\n",
       "  <thead>\n",
       "    <tr style=\"text-align: right;\">\n",
       "      <th></th>\n",
       "      <th>region</th>\n",
       "      <th>year</th>\n",
       "      <th>manufacturer</th>\n",
       "      <th>model</th>\n",
       "      <th>condition</th>\n",
       "      <th>cylinders</th>\n",
       "      <th>fuel</th>\n",
       "      <th>odometer</th>\n",
       "      <th>title_status</th>\n",
       "      <th>transmission</th>\n",
       "      <th>drive</th>\n",
       "      <th>size</th>\n",
       "      <th>type</th>\n",
       "      <th>paint_color</th>\n",
       "      <th>lat</th>\n",
       "      <th>long</th>\n",
       "      <th>price</th>\n",
       "    </tr>\n",
       "  </thead>\n",
       "  <tbody>\n",
       "    <tr>\n",
       "      <th>0</th>\n",
       "      <td>prescott</td>\n",
       "      <td>2004.4</td>\n",
       "      <td>infiniti</td>\n",
       "      <td>g series</td>\n",
       "      <td>fair</td>\n",
       "      <td>5 cylinders</td>\n",
       "      <td>gas</td>\n",
       "      <td>20984.0</td>\n",
       "      <td>clean</td>\n",
       "      <td>automatic</td>\n",
       "      <td>4wd</td>\n",
       "      <td>full-size</td>\n",
       "      <td>offroad</td>\n",
       "      <td>grey</td>\n",
       "      <td>33.710686</td>\n",
       "      <td>-98.333734</td>\n",
       "      <td>6000</td>\n",
       "    </tr>\n",
       "    <tr>\n",
       "      <th>1</th>\n",
       "      <td>fayetteville</td>\n",
       "      <td>2004.4</td>\n",
       "      <td>infiniti</td>\n",
       "      <td>g series</td>\n",
       "      <td>fair</td>\n",
       "      <td>5 cylinders</td>\n",
       "      <td>gas</td>\n",
       "      <td>20984.0</td>\n",
       "      <td>clean</td>\n",
       "      <td>automatic</td>\n",
       "      <td>4wd</td>\n",
       "      <td>full-size</td>\n",
       "      <td>offroad</td>\n",
       "      <td>grey</td>\n",
       "      <td>33.710686</td>\n",
       "      <td>-98.333734</td>\n",
       "      <td>11900</td>\n",
       "    </tr>\n",
       "    <tr>\n",
       "      <th>2</th>\n",
       "      <td>florida keys</td>\n",
       "      <td>2004.4</td>\n",
       "      <td>infiniti</td>\n",
       "      <td>g series</td>\n",
       "      <td>fair</td>\n",
       "      <td>5 cylinders</td>\n",
       "      <td>gas</td>\n",
       "      <td>20984.0</td>\n",
       "      <td>clean</td>\n",
       "      <td>automatic</td>\n",
       "      <td>4wd</td>\n",
       "      <td>full-size</td>\n",
       "      <td>offroad</td>\n",
       "      <td>grey</td>\n",
       "      <td>33.710686</td>\n",
       "      <td>-98.333734</td>\n",
       "      <td>21000</td>\n",
       "    </tr>\n",
       "    <tr>\n",
       "      <th>3</th>\n",
       "      <td>worcester / central MA</td>\n",
       "      <td>2004.4</td>\n",
       "      <td>infiniti</td>\n",
       "      <td>g series</td>\n",
       "      <td>fair</td>\n",
       "      <td>5 cylinders</td>\n",
       "      <td>gas</td>\n",
       "      <td>20984.0</td>\n",
       "      <td>clean</td>\n",
       "      <td>automatic</td>\n",
       "      <td>4wd</td>\n",
       "      <td>full-size</td>\n",
       "      <td>offroad</td>\n",
       "      <td>grey</td>\n",
       "      <td>33.710686</td>\n",
       "      <td>-98.333734</td>\n",
       "      <td>1500</td>\n",
       "    </tr>\n",
       "    <tr>\n",
       "      <th>4</th>\n",
       "      <td>greensboro</td>\n",
       "      <td>2004.4</td>\n",
       "      <td>infiniti</td>\n",
       "      <td>g series</td>\n",
       "      <td>fair</td>\n",
       "      <td>5 cylinders</td>\n",
       "      <td>gas</td>\n",
       "      <td>20984.0</td>\n",
       "      <td>clean</td>\n",
       "      <td>automatic</td>\n",
       "      <td>4wd</td>\n",
       "      <td>full-size</td>\n",
       "      <td>offroad</td>\n",
       "      <td>grey</td>\n",
       "      <td>33.710686</td>\n",
       "      <td>-98.333734</td>\n",
       "      <td>4900</td>\n",
       "    </tr>\n",
       "  </tbody>\n",
       "</table>\n",
       "</div>"
      ],
      "text/plain": [
       "                   region    year manufacturer     model condition  \\\n",
       "0                prescott  2004.4     infiniti  g series      fair   \n",
       "1            fayetteville  2004.4     infiniti  g series      fair   \n",
       "2            florida keys  2004.4     infiniti  g series      fair   \n",
       "3  worcester / central MA  2004.4     infiniti  g series      fair   \n",
       "4              greensboro  2004.4     infiniti  g series      fair   \n",
       "\n",
       "     cylinders fuel  odometer title_status transmission drive       size  \\\n",
       "0  5 cylinders  gas   20984.0        clean    automatic   4wd  full-size   \n",
       "1  5 cylinders  gas   20984.0        clean    automatic   4wd  full-size   \n",
       "2  5 cylinders  gas   20984.0        clean    automatic   4wd  full-size   \n",
       "3  5 cylinders  gas   20984.0        clean    automatic   4wd  full-size   \n",
       "4  5 cylinders  gas   20984.0        clean    automatic   4wd  full-size   \n",
       "\n",
       "      type paint_color        lat       long  price  \n",
       "0  offroad        grey  33.710686 -98.333734   6000  \n",
       "1  offroad        grey  33.710686 -98.333734  11900  \n",
       "2  offroad        grey  33.710686 -98.333734  21000  \n",
       "3  offroad        grey  33.710686 -98.333734   1500  \n",
       "4  offroad        grey  33.710686 -98.333734   4900  "
      ]
     },
     "execution_count": 2,
     "metadata": {},
     "output_type": "execute_result"
    }
   ],
   "source": [
    "#Loading Dataframe\n",
    "\n",
    "#df=pd.read_csv(\"vehiclesFinal2.csv\")\n",
    "df=pd.read_csv(\"vehiclesFinal.csv\")\n",
    "#df=df.drop('Unnamed: 0',axis=1)\n",
    "df=df.drop('id',axis=1)\n",
    "\n",
    "\"\"\"df=df.drop('lat',axis=1)\n",
    "df=df.drop('long',axis=1)\n",
    "df=df.drop('region',axis=1)\"\"\"\n",
    "\n",
    "df2=df.copy()\n",
    "df.head()"
   ]
  },
  {
   "cell_type": "code",
   "execution_count": 3,
   "metadata": {},
   "outputs": [],
   "source": [
    "#defining numerical and categorical values\n",
    "\n",
    "num_col=['year','odometer','long','lat']\n",
    "cat_cols=['region','manufacturer','model','condition','cylinders','fuel','title_status','transmission','drive','size','type','paint_color']"
   ]
  },
  {
   "cell_type": "markdown",
   "metadata": {},
   "source": [
    "# 1) Transforming categorical columns values into integer values"
   ]
  },
  {
   "cell_type": "code",
   "execution_count": 4,
   "metadata": {},
   "outputs": [],
   "source": [
    "le=preprocessing.LabelEncoder()\n",
    "df[cat_cols]=df[cat_cols].apply(le.fit_transform)"
   ]
  },
  {
   "cell_type": "code",
   "execution_count": 5,
   "metadata": {},
   "outputs": [
    {
     "data": {
      "text/html": [
       "<div>\n",
       "<style scoped>\n",
       "    .dataframe tbody tr th:only-of-type {\n",
       "        vertical-align: middle;\n",
       "    }\n",
       "\n",
       "    .dataframe tbody tr th {\n",
       "        vertical-align: top;\n",
       "    }\n",
       "\n",
       "    .dataframe thead th {\n",
       "        text-align: right;\n",
       "    }\n",
       "</style>\n",
       "<table border=\"1\" class=\"dataframe\">\n",
       "  <thead>\n",
       "    <tr style=\"text-align: right;\">\n",
       "      <th></th>\n",
       "      <th>region</th>\n",
       "      <th>year</th>\n",
       "      <th>manufacturer</th>\n",
       "      <th>model</th>\n",
       "      <th>condition</th>\n",
       "      <th>cylinders</th>\n",
       "      <th>fuel</th>\n",
       "      <th>odometer</th>\n",
       "      <th>title_status</th>\n",
       "      <th>transmission</th>\n",
       "      <th>drive</th>\n",
       "      <th>size</th>\n",
       "      <th>type</th>\n",
       "      <th>paint_color</th>\n",
       "      <th>lat</th>\n",
       "      <th>long</th>\n",
       "      <th>price</th>\n",
       "    </tr>\n",
       "  </thead>\n",
       "  <tbody>\n",
       "    <tr>\n",
       "      <th>0</th>\n",
       "      <td>277</td>\n",
       "      <td>2004.4</td>\n",
       "      <td>17</td>\n",
       "      <td>12953</td>\n",
       "      <td>1</td>\n",
       "      <td>4</td>\n",
       "      <td>2</td>\n",
       "      <td>20984.0</td>\n",
       "      <td>0</td>\n",
       "      <td>0</td>\n",
       "      <td>0</td>\n",
       "      <td>1</td>\n",
       "      <td>6</td>\n",
       "      <td>5</td>\n",
       "      <td>33.710686</td>\n",
       "      <td>-98.333734</td>\n",
       "      <td>6000</td>\n",
       "    </tr>\n",
       "    <tr>\n",
       "      <th>1</th>\n",
       "      <td>105</td>\n",
       "      <td>2004.4</td>\n",
       "      <td>17</td>\n",
       "      <td>12953</td>\n",
       "      <td>1</td>\n",
       "      <td>4</td>\n",
       "      <td>2</td>\n",
       "      <td>20984.0</td>\n",
       "      <td>0</td>\n",
       "      <td>0</td>\n",
       "      <td>0</td>\n",
       "      <td>1</td>\n",
       "      <td>6</td>\n",
       "      <td>5</td>\n",
       "      <td>33.710686</td>\n",
       "      <td>-98.333734</td>\n",
       "      <td>11900</td>\n",
       "    </tr>\n",
       "  </tbody>\n",
       "</table>\n",
       "</div>"
      ],
      "text/plain": [
       "   region    year  manufacturer  model  condition  cylinders  fuel  odometer  \\\n",
       "0     277  2004.4            17  12953          1          4     2   20984.0   \n",
       "1     105  2004.4            17  12953          1          4     2   20984.0   \n",
       "\n",
       "   title_status  transmission  drive  size  type  paint_color        lat  \\\n",
       "0             0             0      0     1     6            5  33.710686   \n",
       "1             0             0      0     1     6            5  33.710686   \n",
       "\n",
       "        long  price  \n",
       "0 -98.333734   6000  \n",
       "1 -98.333734  11900  "
      ]
     },
     "execution_count": 5,
     "metadata": {},
     "output_type": "execute_result"
    }
   ],
   "source": [
    "df.head(2)"
   ]
  },
  {
   "cell_type": "markdown",
   "metadata": {},
   "source": [
    "# 2) Scaling Dataset"
   ]
  },
  {
   "cell_type": "code",
   "execution_count": 6,
   "metadata": {},
   "outputs": [],
   "source": [
    "#scaling numerical data\n",
    "\n",
    "norm = StandardScaler()\n",
    "df['price'] = np.log(df['price'])\n",
    "df['odometer'] = norm.fit_transform(np.array(df['odometer']).reshape(-1,1))\n",
    "df['year'] = norm.fit_transform(np.array(df['year']).reshape(-1,1))\n",
    "df['model'] = norm.fit_transform(np.array(df['model']).reshape(-1,1))\n",
    "\n",
    "#scaling target variable\n",
    "q1,q3=(df['price'].quantile([0.25,0.75]))\n",
    "o1=q1-1.5*(q3-q1)\n",
    "o2=q3+1.5*(q3-q1)\n",
    "df=df[(df.price>=o1) & (df.price<=o2)]\n",
    "\n",
    "df['region'] = norm.fit_transform(np.array(df['region']).reshape(-1,1))\n",
    "df['lat'] = norm.fit_transform(np.array(df['lat']).reshape(-1,1))\n",
    "df['long'] = norm.fit_transform(np.array(df['long']).reshape(-1,1))"
   ]
  },
  {
   "cell_type": "code",
   "execution_count": 7,
   "metadata": {},
   "outputs": [
    {
     "data": {
      "text/html": [
       "<div>\n",
       "<style scoped>\n",
       "    .dataframe tbody tr th:only-of-type {\n",
       "        vertical-align: middle;\n",
       "    }\n",
       "\n",
       "    .dataframe tbody tr th {\n",
       "        vertical-align: top;\n",
       "    }\n",
       "\n",
       "    .dataframe thead th {\n",
       "        text-align: right;\n",
       "    }\n",
       "</style>\n",
       "<table border=\"1\" class=\"dataframe\">\n",
       "  <thead>\n",
       "    <tr style=\"text-align: right;\">\n",
       "      <th></th>\n",
       "      <th>region</th>\n",
       "      <th>year</th>\n",
       "      <th>manufacturer</th>\n",
       "      <th>model</th>\n",
       "      <th>condition</th>\n",
       "      <th>cylinders</th>\n",
       "      <th>fuel</th>\n",
       "      <th>odometer</th>\n",
       "      <th>title_status</th>\n",
       "      <th>transmission</th>\n",
       "      <th>drive</th>\n",
       "      <th>size</th>\n",
       "      <th>type</th>\n",
       "      <th>paint_color</th>\n",
       "      <th>lat</th>\n",
       "      <th>long</th>\n",
       "      <th>price</th>\n",
       "    </tr>\n",
       "  </thead>\n",
       "  <tbody>\n",
       "    <tr>\n",
       "      <th>0</th>\n",
       "      <td>0.702942</td>\n",
       "      <td>-1.473996</td>\n",
       "      <td>17</td>\n",
       "      <td>-0.024526</td>\n",
       "      <td>1</td>\n",
       "      <td>4</td>\n",
       "      <td>2</td>\n",
       "      <td>-1.1586</td>\n",
       "      <td>0</td>\n",
       "      <td>0</td>\n",
       "      <td>0</td>\n",
       "      <td>1</td>\n",
       "      <td>6</td>\n",
       "      <td>5</td>\n",
       "      <td>-0.821601</td>\n",
       "      <td>-0.229271</td>\n",
       "      <td>8.699515</td>\n",
       "    </tr>\n",
       "    <tr>\n",
       "      <th>1</th>\n",
       "      <td>-0.751849</td>\n",
       "      <td>-1.473996</td>\n",
       "      <td>17</td>\n",
       "      <td>-0.024526</td>\n",
       "      <td>1</td>\n",
       "      <td>4</td>\n",
       "      <td>2</td>\n",
       "      <td>-1.1586</td>\n",
       "      <td>0</td>\n",
       "      <td>0</td>\n",
       "      <td>0</td>\n",
       "      <td>1</td>\n",
       "      <td>6</td>\n",
       "      <td>5</td>\n",
       "      <td>-0.821601</td>\n",
       "      <td>-0.229271</td>\n",
       "      <td>9.384294</td>\n",
       "    </tr>\n",
       "  </tbody>\n",
       "</table>\n",
       "</div>"
      ],
      "text/plain": [
       "     region      year  manufacturer     model  condition  cylinders  fuel  \\\n",
       "0  0.702942 -1.473996            17 -0.024526          1          4     2   \n",
       "1 -0.751849 -1.473996            17 -0.024526          1          4     2   \n",
       "\n",
       "   odometer  title_status  transmission  drive  size  type  paint_color  \\\n",
       "0   -1.1586             0             0      0     1     6            5   \n",
       "1   -1.1586             0             0      0     1     6            5   \n",
       "\n",
       "        lat      long     price  \n",
       "0 -0.821601 -0.229271  8.699515  \n",
       "1 -0.821601 -0.229271  9.384294  "
      ]
     },
     "execution_count": 7,
     "metadata": {},
     "output_type": "execute_result"
    }
   ],
   "source": [
    "df.head(2)"
   ]
  },
  {
   "cell_type": "code",
   "execution_count": 8,
   "metadata": {},
   "outputs": [],
   "source": [
    "#function to split dataset int training and test\n",
    "def trainingData(df,n):\n",
    "    X = df.iloc[:,n]\n",
    "    y = df.iloc[:,-1:].values.T\n",
    "    y=y[0]\n",
    "    X_train,X_test,y_train,y_test=train_test_split(X,y,train_size=0.9,test_size=0.1,random_state=0)\n",
    "    return (X_train,X_test,y_train,y_test)\n",
    "\n",
    "X_train,X_test,y_train,y_test=trainingData(df,list(range(len(list(df.columns))-1)))"
   ]
  },
  {
   "cell_type": "code",
   "execution_count": 34,
   "metadata": {},
   "outputs": [
    {
     "data": {
      "text/html": [
       "<div>\n",
       "<style scoped>\n",
       "    .dataframe tbody tr th:only-of-type {\n",
       "        vertical-align: middle;\n",
       "    }\n",
       "\n",
       "    .dataframe tbody tr th {\n",
       "        vertical-align: top;\n",
       "    }\n",
       "\n",
       "    .dataframe thead th {\n",
       "        text-align: right;\n",
       "    }\n",
       "</style>\n",
       "<table border=\"1\" class=\"dataframe\">\n",
       "  <thead>\n",
       "    <tr style=\"text-align: right;\">\n",
       "      <th></th>\n",
       "      <th>region</th>\n",
       "      <th>year</th>\n",
       "      <th>manufacturer</th>\n",
       "      <th>model</th>\n",
       "      <th>condition</th>\n",
       "      <th>cylinders</th>\n",
       "      <th>fuel</th>\n",
       "      <th>odometer</th>\n",
       "      <th>title_status</th>\n",
       "      <th>transmission</th>\n",
       "      <th>drive</th>\n",
       "      <th>size</th>\n",
       "      <th>type</th>\n",
       "      <th>paint_color</th>\n",
       "      <th>lat</th>\n",
       "      <th>long</th>\n",
       "    </tr>\n",
       "  </thead>\n",
       "  <tbody>\n",
       "    <tr>\n",
       "      <th>330716</th>\n",
       "      <td>1.531834</td>\n",
       "      <td>-3.184539</td>\n",
       "      <td>17</td>\n",
       "      <td>-1.571753</td>\n",
       "      <td>3</td>\n",
       "      <td>6</td>\n",
       "      <td>2</td>\n",
       "      <td>-0.798214</td>\n",
       "      <td>0</td>\n",
       "      <td>1</td>\n",
       "      <td>1</td>\n",
       "      <td>1</td>\n",
       "      <td>2</td>\n",
       "      <td>8</td>\n",
       "      <td>1.007812</td>\n",
       "      <td>1.177748</td>\n",
       "    </tr>\n",
       "    <tr>\n",
       "      <th>116827</th>\n",
       "      <td>1.235801</td>\n",
       "      <td>0.272940</td>\n",
       "      <td>13</td>\n",
       "      <td>0.989368</td>\n",
       "      <td>1</td>\n",
       "      <td>4</td>\n",
       "      <td>2</td>\n",
       "      <td>-0.061597</td>\n",
       "      <td>0</td>\n",
       "      <td>0</td>\n",
       "      <td>0</td>\n",
       "      <td>1</td>\n",
       "      <td>10</td>\n",
       "      <td>5</td>\n",
       "      <td>1.578948</td>\n",
       "      <td>-1.260489</td>\n",
       "    </tr>\n",
       "    <tr>\n",
       "      <th>309865</th>\n",
       "      <td>-1.631490</td>\n",
       "      <td>-0.272977</td>\n",
       "      <td>33</td>\n",
       "      <td>0.603697</td>\n",
       "      <td>1</td>\n",
       "      <td>4</td>\n",
       "      <td>2</td>\n",
       "      <td>0.237355</td>\n",
       "      <td>0</td>\n",
       "      <td>0</td>\n",
       "      <td>2</td>\n",
       "      <td>1</td>\n",
       "      <td>10</td>\n",
       "      <td>4</td>\n",
       "      <td>-1.045767</td>\n",
       "      <td>-0.254946</td>\n",
       "    </tr>\n",
       "    <tr>\n",
       "      <th>112306</th>\n",
       "      <td>-1.360831</td>\n",
       "      <td>-1.728758</td>\n",
       "      <td>16</td>\n",
       "      <td>-0.506029</td>\n",
       "      <td>1</td>\n",
       "      <td>4</td>\n",
       "      <td>2</td>\n",
       "      <td>0.233050</td>\n",
       "      <td>0</td>\n",
       "      <td>1</td>\n",
       "      <td>0</td>\n",
       "      <td>1</td>\n",
       "      <td>6</td>\n",
       "      <td>5</td>\n",
       "      <td>0.879653</td>\n",
       "      <td>-1.223209</td>\n",
       "    </tr>\n",
       "    <tr>\n",
       "      <th>308389</th>\n",
       "      <td>0.305412</td>\n",
       "      <td>0.818858</td>\n",
       "      <td>18</td>\n",
       "      <td>1.600054</td>\n",
       "      <td>2</td>\n",
       "      <td>4</td>\n",
       "      <td>0</td>\n",
       "      <td>-1.155064</td>\n",
       "      <td>0</td>\n",
       "      <td>2</td>\n",
       "      <td>2</td>\n",
       "      <td>1</td>\n",
       "      <td>9</td>\n",
       "      <td>0</td>\n",
       "      <td>-0.400203</td>\n",
       "      <td>0.411235</td>\n",
       "    </tr>\n",
       "    <tr>\n",
       "      <th>...</th>\n",
       "      <td>...</td>\n",
       "      <td>...</td>\n",
       "      <td>...</td>\n",
       "      <td>...</td>\n",
       "      <td>...</td>\n",
       "      <td>...</td>\n",
       "      <td>...</td>\n",
       "      <td>...</td>\n",
       "      <td>...</td>\n",
       "      <td>...</td>\n",
       "      <td>...</td>\n",
       "      <td>...</td>\n",
       "      <td>...</td>\n",
       "      <td>...</td>\n",
       "      <td>...</td>\n",
       "      <td>...</td>\n",
       "    </tr>\n",
       "    <tr>\n",
       "      <th>363510</th>\n",
       "      <td>1.591041</td>\n",
       "      <td>1.000831</td>\n",
       "      <td>24</td>\n",
       "      <td>0.476862</td>\n",
       "      <td>2</td>\n",
       "      <td>4</td>\n",
       "      <td>2</td>\n",
       "      <td>-1.332442</td>\n",
       "      <td>0</td>\n",
       "      <td>2</td>\n",
       "      <td>2</td>\n",
       "      <td>1</td>\n",
       "      <td>7</td>\n",
       "      <td>10</td>\n",
       "      <td>1.105943</td>\n",
       "      <td>0.252685</td>\n",
       "    </tr>\n",
       "    <tr>\n",
       "      <th>361795</th>\n",
       "      <td>0.186999</td>\n",
       "      <td>0.454913</td>\n",
       "      <td>12</td>\n",
       "      <td>-0.220102</td>\n",
       "      <td>2</td>\n",
       "      <td>5</td>\n",
       "      <td>2</td>\n",
       "      <td>-0.432705</td>\n",
       "      <td>0</td>\n",
       "      <td>2</td>\n",
       "      <td>0</td>\n",
       "      <td>1</td>\n",
       "      <td>8</td>\n",
       "      <td>1</td>\n",
       "      <td>0.780383</td>\n",
       "      <td>0.345819</td>\n",
       "    </tr>\n",
       "    <tr>\n",
       "      <th>153665</th>\n",
       "      <td>0.077044</td>\n",
       "      <td>-0.272977</td>\n",
       "      <td>12</td>\n",
       "      <td>-0.169838</td>\n",
       "      <td>1</td>\n",
       "      <td>6</td>\n",
       "      <td>0</td>\n",
       "      <td>-0.045227</td>\n",
       "      <td>0</td>\n",
       "      <td>0</td>\n",
       "      <td>0</td>\n",
       "      <td>1</td>\n",
       "      <td>6</td>\n",
       "      <td>5</td>\n",
       "      <td>0.741932</td>\n",
       "      <td>1.280856</td>\n",
       "    </tr>\n",
       "    <tr>\n",
       "      <th>119074</th>\n",
       "      <td>-1.166295</td>\n",
       "      <td>0.818858</td>\n",
       "      <td>5</td>\n",
       "      <td>-0.493658</td>\n",
       "      <td>2</td>\n",
       "      <td>4</td>\n",
       "      <td>2</td>\n",
       "      <td>-1.230707</td>\n",
       "      <td>0</td>\n",
       "      <td>2</td>\n",
       "      <td>1</td>\n",
       "      <td>1</td>\n",
       "      <td>7</td>\n",
       "      <td>9</td>\n",
       "      <td>0.569625</td>\n",
       "      <td>0.361342</td>\n",
       "    </tr>\n",
       "    <tr>\n",
       "      <th>308801</th>\n",
       "      <td>1.430337</td>\n",
       "      <td>-1.546786</td>\n",
       "      <td>13</td>\n",
       "      <td>0.961026</td>\n",
       "      <td>1</td>\n",
       "      <td>4</td>\n",
       "      <td>0</td>\n",
       "      <td>2.650007</td>\n",
       "      <td>0</td>\n",
       "      <td>0</td>\n",
       "      <td>0</td>\n",
       "      <td>1</td>\n",
       "      <td>7</td>\n",
       "      <td>5</td>\n",
       "      <td>-0.354267</td>\n",
       "      <td>0.659480</td>\n",
       "    </tr>\n",
       "  </tbody>\n",
       "</table>\n",
       "<p>324623 rows × 16 columns</p>\n",
       "</div>"
      ],
      "text/plain": [
       "          region      year  manufacturer     model  condition  cylinders  \\\n",
       "330716  1.531834 -3.184539            17 -1.571753          3          6   \n",
       "116827  1.235801  0.272940            13  0.989368          1          4   \n",
       "309865 -1.631490 -0.272977            33  0.603697          1          4   \n",
       "112306 -1.360831 -1.728758            16 -0.506029          1          4   \n",
       "308389  0.305412  0.818858            18  1.600054          2          4   \n",
       "...          ...       ...           ...       ...        ...        ...   \n",
       "363510  1.591041  1.000831            24  0.476862          2          4   \n",
       "361795  0.186999  0.454913            12 -0.220102          2          5   \n",
       "153665  0.077044 -0.272977            12 -0.169838          1          6   \n",
       "119074 -1.166295  0.818858             5 -0.493658          2          4   \n",
       "308801  1.430337 -1.546786            13  0.961026          1          4   \n",
       "\n",
       "        fuel  odometer  title_status  transmission  drive  size  type  \\\n",
       "330716     2 -0.798214             0             1      1     1     2   \n",
       "116827     2 -0.061597             0             0      0     1    10   \n",
       "309865     2  0.237355             0             0      2     1    10   \n",
       "112306     2  0.233050             0             1      0     1     6   \n",
       "308389     0 -1.155064             0             2      2     1     9   \n",
       "...      ...       ...           ...           ...    ...   ...   ...   \n",
       "363510     2 -1.332442             0             2      2     1     7   \n",
       "361795     2 -0.432705             0             2      0     1     8   \n",
       "153665     0 -0.045227             0             0      0     1     6   \n",
       "119074     2 -1.230707             0             2      1     1     7   \n",
       "308801     0  2.650007             0             0      0     1     7   \n",
       "\n",
       "        paint_color       lat      long  \n",
       "330716            8  1.007812  1.177748  \n",
       "116827            5  1.578948 -1.260489  \n",
       "309865            4 -1.045767 -0.254946  \n",
       "112306            5  0.879653 -1.223209  \n",
       "308389            0 -0.400203  0.411235  \n",
       "...             ...       ...       ...  \n",
       "363510           10  1.105943  0.252685  \n",
       "361795            1  0.780383  0.345819  \n",
       "153665            5  0.741932  1.280856  \n",
       "119074            9  0.569625  0.361342  \n",
       "308801            5 -0.354267  0.659480  \n",
       "\n",
       "[324623 rows x 16 columns]"
      ]
     },
     "execution_count": 34,
     "metadata": {},
     "output_type": "execute_result"
    }
   ],
   "source": [
    "X_train"
   ]
  },
  {
   "cell_type": "code",
   "execution_count": 9,
   "metadata": {},
   "outputs": [],
   "source": [
    "#some of models will predict neg values so this function will remove that values\n",
    "def remove_neg(y_test,y_pred):\n",
    "    ind=[index for index in range(len(y_pred)) if(y_pred[index]>0)]\n",
    "    y_pred=y_pred[ind]\n",
    "    y_test=y_test[ind]\n",
    "    y_pred[y_pred<0]\n",
    "    return (y_test,y_pred)\n",
    "\n",
    "#function for evaluation of model\n",
    "def result(y_test,y_pred):\n",
    "    r=[]\n",
    "    r.append(mean_squared_log_error(y_test, y_pred))\n",
    "    r.append(np.sqrt(r[0]))\n",
    "    r.append(r2_score(y_test,y_pred))\n",
    "    r.append(round(r2_score(y_test,y_pred)*100,4))\n",
    "    return (r)\n",
    "\n",
    "#dataframe that store the performance of each model\n",
    "accu=pd.DataFrame(index=['MSLE', 'Root MSLE', 'R2 Score','Accuracy(%)'])    "
   ]
  },
  {
   "cell_type": "markdown",
   "metadata": {},
   "source": [
    "# 3) Model Implementation\n",
    "### 1)Linear Regression\n",
    "### 2)Ridge Regression\n",
    "### 3)Lasso Regression\n",
    "### 4)K-Neighbors Regressor\n",
    "### 5)Random Forest Regressor\n",
    "### 6)Bagging Regressor\n",
    "### 7)Adaboost Regressor\n",
    "### 8)XGBoost"
   ]
  },
  {
   "cell_type": "markdown",
   "metadata": {},
   "source": [
    "## 1) Linear Regression"
   ]
  },
  {
   "cell_type": "code",
   "execution_count": 10,
   "metadata": {},
   "outputs": [],
   "source": [
    "#fitting model\n",
    "LR=LinearRegression()\n",
    "LR.fit(X_train,y_train)\n",
    "y_pred=LR.predict(X_test)"
   ]
  },
  {
   "cell_type": "code",
   "execution_count": 11,
   "metadata": {},
   "outputs": [
    {
     "name": "stdout",
     "output_type": "stream",
     "text": [
      "Coefficients: \n",
      " [-0.00100736  0.42681034 -0.00075624 -0.00263924 -0.02326722  0.20173939\n",
      " -0.15465521 -0.2464553  -0.09123397  0.07052097 -0.08624364 -0.03520831\n",
      "  0.0021679   0.00493178 -0.00049051 -0.06838886]\n",
      "MSLE : 0.0024161658796354245\n",
      "Root MSLE : 0.04915451026747621\n",
      "R2 Score : 0.6255645515131343 or 62.5565%\n"
     ]
    }
   ],
   "source": [
    "#calculating error/accuracy\n",
    "y_test_1,y_pred_1=remove_neg(y_test,y_pred)\n",
    "r1_lr=result(y_test_1,y_pred_1)\n",
    "print('Coefficients: \\n', LR.coef_)\n",
    "print(\"MSLE : {}\".format(r1_lr[0]))\n",
    "print(\"Root MSLE : {}\".format(r1_lr[1]))\n",
    "print(\"R2 Score : {} or {}%\".format(r1_lr[2],r1_lr[3]))\n",
    "accu['Linear Regression']=r1_lr"
   ]
  },
  {
   "cell_type": "markdown",
   "metadata": {},
   "source": [
    "## 2) Ridge regression"
   ]
  },
  {
   "cell_type": "code",
   "execution_count": 12,
   "metadata": {},
   "outputs": [],
   "source": [
    "#model object and fitting model\n",
    "RR=Ridge(alpha=25,solver='auto')\n",
    "RR.fit(X_train,y_train)\n",
    "y_pred=RR.predict(X_test)"
   ]
  },
  {
   "cell_type": "code",
   "execution_count": 13,
   "metadata": {},
   "outputs": [
    {
     "name": "stdout",
     "output_type": "stream",
     "text": [
      "MSLE : 0.002416160158910664\n",
      "Root MSLE : 0.04915445207619208\n",
      "R2 Score : 0.625565465229311 or 62.5565%\n"
     ]
    }
   ],
   "source": [
    "#model evaluation\n",
    "\n",
    "y_test_2,y_pred_2=remove_neg(y_test,y_pred)\n",
    "r2_ridge=result(y_test_2,y_pred_2)\n",
    "print(\"MSLE : {}\".format(r2_ridge[0]))\n",
    "print(\"Root MSLE : {}\".format(r2_ridge[1]))\n",
    "print(\"R2 Score : {} or {}%\".format(r2_ridge[2],r2_ridge[3]))\n",
    "accu['Ridge Regression']=r2_ridge"
   ]
  },
  {
   "cell_type": "markdown",
   "metadata": {},
   "source": [
    "## 3) Lasso Regression"
   ]
  },
  {
   "cell_type": "code",
   "execution_count": 14,
   "metadata": {},
   "outputs": [],
   "source": [
    "#model object and fitting it\n",
    "lasso=Lasso(alpha=0.0001)\n",
    "lasso.fit(X_train,y_train)\n",
    "y_pred=lasso.predict(X_test)"
   ]
  },
  {
   "cell_type": "code",
   "execution_count": 15,
   "metadata": {},
   "outputs": [
    {
     "name": "stdout",
     "output_type": "stream",
     "text": [
      "MSLE : 0.002416119869132121\n",
      "Root MSLE : 0.0491540422461075\n",
      "R2 Score : 0.6255752923578952 or 62.5575%\n"
     ]
    }
   ],
   "source": [
    "#model evaluation\n",
    "y_test_3,y_pred_3=remove_neg(y_test,y_pred)\n",
    "r3_lasso=result(y_test_3,y_pred_3)\n",
    "print(\"MSLE : {}\".format(r3_lasso[0]))\n",
    "print(\"Root MSLE : {}\".format(r3_lasso[1]))\n",
    "print(\"R2 Score : {} or {}%\".format(r3_lasso[2],r3_lasso[3]))\n",
    "accu['Lasso Regression']=r3_lasso"
   ]
  },
  {
   "cell_type": "markdown",
   "metadata": {},
   "source": [
    "## 4) KNN"
   ]
  },
  {
   "cell_type": "code",
   "execution_count": 16,
   "metadata": {},
   "outputs": [
    {
     "name": "stdout",
     "output_type": "stream",
     "text": [
      "K = 1  , Root MSLE = 0.03824099199827251\n",
      "K = 2  , Root MSLE = 0.0352890830517743\n",
      "K = 3  , Root MSLE = 0.03472675091526727\n",
      "K = 4  , Root MSLE = 0.034730324143332617\n",
      "K = 5  , Root MSLE = 0.03499063665571354\n",
      "K = 6  , Root MSLE = 0.03517595950708417\n",
      "K = 7  , Root MSLE = 0.03530427551760089\n",
      "K = 8  , Root MSLE = 0.03550307011781226\n",
      "K = 9  , Root MSLE = 0.03574420078981347\n"
     ]
    }
   ],
   "source": [
    "#estimating MSLE for k=1-9\n",
    "R_MSLE=[]\n",
    "for i in range(1,10):\n",
    "    KNN=KNeighborsRegressor(n_neighbors=i)\n",
    "    KNN.fit(X_train,y_train)\n",
    "    y_pred=KNN.predict(X_test)\n",
    "    error=np.sqrt(mean_squared_log_error(y_test, y_pred))\n",
    "    R_MSLE.append(error)\n",
    "    print(\"K =\",i,\" , Root MSLE =\",error)"
   ]
  },
  {
   "cell_type": "code",
   "execution_count": 17,
   "metadata": {},
   "outputs": [
    {
     "data": {
      "image/png": "[encoded data removed]",
      "text/plain": [
       "<Figure size 800x400 with 1 Axes>"
      ]
     },
     "metadata": {},
     "output_type": "display_data"
    }
   ],
   "source": [
    "#plotting error\n",
    "\n",
    "curve = pd.DataFrame(R_MSLE) #elbow curve \n",
    "plt.figure(figsize=(8,4))\n",
    "plt.xticks(list(range(1,10)), list(range(1,10)), rotation='horizontal')\n",
    "plt.plot(list(range(1,10)),R_MSLE)\n",
    "plt.xlabel('K')\n",
    "plt.ylabel('MSLE')\n",
    "plt.title('Error Plot for Each K')\n",
    "plt.savefig('KNN-Error-Plot.jpg')\n",
    "plt.show()"
   ]
  },
  {
   "cell_type": "code",
   "execution_count": 18,
   "metadata": {},
   "outputs": [
    {
     "ename": "SyntaxError",
     "evalue": "invalid syntax (956116529.py, line 2)",
     "output_type": "error",
     "traceback": [
      "\u001b[0;36m  Cell \u001b[0;32mIn[18], line 2\u001b[0;36m\u001b[0m\n\u001b[0;31m    KNN=KNeighborsRegressor(n_neighbors=)\u001b[0m\n\u001b[0m                                        ^\u001b[0m\n\u001b[0;31mSyntaxError\u001b[0m\u001b[0;31m:\u001b[0m invalid syntax\n"
     ]
    }
   ],
   "source": [
    "#model implementation\n",
    "KNN=KNeighborsRegressor(n_neighbors=) \n",
    "KNN.fit(X_train,y_train)\n",
    "y_pred=KNN.predict(X_test)"
   ]
  },
  {
   "cell_type": "code",
   "execution_count": 19,
   "metadata": {},
   "outputs": [
    {
     "name": "stdout",
     "output_type": "stream",
     "text": [
      "MSLE : 0.0012776478901025017\n",
      "Root MSLE : 0.03574420078981347\n",
      "R2 Score : 0.8092698745814237 or 80.927%\n"
     ]
    }
   ],
   "source": [
    "#model evaluation\n",
    "r4_knn=result(y_test,y_pred)\n",
    "print(\"MSLE : {}\".format(r4_knn[0]))\n",
    "print(\"Root MSLE : {}\".format(r4_knn[1]))\n",
    "print(\"R2 Score : {} or {}%\".format(r4_knn[2],r4_knn[3]))\n",
    "accu['KNN']=r4_knn"
   ]
  },
  {
   "cell_type": "code",
   "execution_count": 20,
   "metadata": {},
   "outputs": [],
   "source": [
    "accu.to_csv('errors.csv')"
   ]
  },
  {
   "cell_type": "markdown",
   "metadata": {},
   "source": [
    "### 5) Random Forest"
   ]
  },
  {
   "cell_type": "code",
   "execution_count": 21,
   "metadata": {
    "scrolled": true
   },
   "outputs": [],
   "source": [
    "RFR = RandomForestRegressor(n_estimators=180,random_state=0, min_samples_leaf=1, max_features=0.5, n_jobs=-1, oob_score=True)\n",
    "RFR.fit(X_train,y_train)\n",
    "y_pred = RFR.predict(X_test)"
   ]
  },
  {
   "cell_type": "code",
   "execution_count": 22,
   "metadata": {},
   "outputs": [
    {
     "name": "stdout",
     "output_type": "stream",
     "text": [
      "MSLE : 0.0006111121502414481\n",
      "Root MSLE : 0.024720682641089183\n",
      "R2 Score : 0.911833866633981 or 91.1834%\n"
     ]
    }
   ],
   "source": [
    "r5_rf=result(y_test,y_pred)\n",
    "print(\"MSLE : {}\".format(r5_rf[0]))\n",
    "print(\"Root MSLE : {}\".format(r5_rf[1]))\n",
    "print(\"R2 Score : {} or {}%\".format(r5_rf[2],r5_rf[3]))\n",
    "accu['RandomForest Regressor']=r5_rf"
   ]
  },
  {
   "cell_type": "markdown",
   "metadata": {},
   "source": [
    "### 6) Bagging Regressor"
   ]
  },
  {
   "cell_type": "code",
   "execution_count": 23,
   "metadata": {},
   "outputs": [],
   "source": [
    "#model implementation\n",
    "baggReg=BaggingRegressor(base_estimator=DecisionTreeRegressor(max_depth=20),n_estimators=50, random_state=1,\n",
    "                         max_samples=1.0, max_features=1.0, bootstrap=False, \n",
    "                         bootstrap_features=False, oob_score=False, warm_start=False, n_jobs=-1, verbose=0)\n",
    "baggReg.fit(X_train,y_train)\n",
    "y_pred=baggReg.predict(X_test)"
   ]
  },
  {
   "cell_type": "code",
   "execution_count": 24,
   "metadata": {},
   "outputs": [
    {
     "name": "stdout",
     "output_type": "stream",
     "text": [
      "MSLE : 0.0011778460680167313\n",
      "Root MSLE : 0.03431976206235602\n",
      "R2 Score : 0.8267549907211298 or 82.6755%\n"
     ]
    }
   ],
   "source": [
    "#model evaluation\n",
    "r6_br=result(y_test,y_pred)\n",
    "print(\"MSLE : {}\".format(r6_br[0]))\n",
    "print(\"Root MSLE : {}\".format(r6_br[1]))\n",
    "print(\"R2 Score : {} or {}%\".format(r6_br[2],r6_br[3]))"
   ]
  },
  {
   "cell_type": "code",
   "execution_count": 25,
   "metadata": {},
   "outputs": [],
   "source": [
    "accu['Bagging Regressor']=r6_br\n",
    "accu.to_csv('errors.csv')"
   ]
  },
  {
   "cell_type": "markdown",
   "metadata": {},
   "source": [
    "### 7) Adaboost"
   ]
  },
  {
   "cell_type": "code",
   "execution_count": 26,
   "metadata": {},
   "outputs": [],
   "source": [
    "#model implementation\n",
    "ABR = AdaBoostRegressor(\n",
    "    DecisionTreeRegressor(max_depth=24),\n",
    "    n_estimators=200,learning_rate=0.6\n",
    ")\n",
    "\n",
    "ABR.fit(X_train, y_train)\n",
    "y_pred = ABR.predict(X_test)"
   ]
  },
  {
   "cell_type": "code",
   "execution_count": 27,
   "metadata": {},
   "outputs": [
    {
     "name": "stdout",
     "output_type": "stream",
     "text": [
      "MSLE : 0.0006445313262187801\n",
      "Root MSLE : 0.025387621515588658\n",
      "R2 Score : 0.9056353347196432 or 90.5635%\n"
     ]
    }
   ],
   "source": [
    "#model evaluation\n",
    "r7_ab=result(y_test,y_pred)\n",
    "print(\"MSLE : {}\".format(r7_ab[0]))\n",
    "print(\"Root MSLE : {}\".format(r7_ab[1]))\n",
    "print(\"R2 Score : {} or {}%\".format(r7_ab[2],r7_ab[3]))"
   ]
  },
  {
   "cell_type": "code",
   "execution_count": 28,
   "metadata": {},
   "outputs": [],
   "source": [
    "accu['AdaBoost Regressor']=r7_ab\n",
    "accu.to_csv('errors.csv')"
   ]
  },
  {
   "cell_type": "markdown",
   "metadata": {},
   "source": [
    "### 8) XGBOOST"
   ]
  },
  {
   "cell_type": "code",
   "execution_count": 29,
   "metadata": {},
   "outputs": [],
   "source": [
    "#model implementation and fitting data\n",
    "xg_reg = xgb.XGBRegressor(objective ='reg:squarederror', learning_rate = 0.4,\n",
    "                max_depth = 24, alpha = 5, n_estimators = 200)\n",
    "xg_reg.fit(X_train,y_train)\n",
    "y_pred = xg_reg.predict(X_test)"
   ]
  },
  {
   "cell_type": "code",
   "execution_count": 30,
   "metadata": {},
   "outputs": [
    {
     "name": "stdout",
     "output_type": "stream",
     "text": [
      "MSLE : 0.0005127977046599476\n",
      "Root MSLE : 0.022645037086742596\n",
      "R2 Score : 0.9258113573746312 or 92.5811%\n"
     ]
    }
   ],
   "source": [
    "#model evaluation\n",
    "y_test_1,y_pred_1=remove_neg(y_test,y_pred)\n",
    "r8_xg=result(y_test_1,y_pred_1)\n",
    "print(\"MSLE : {}\".format(r8_xg[0]))\n",
    "print(\"Root MSLE : {}\".format(r8_xg[1]))\n",
    "print(\"R2 Score : {} or {}%\".format(r8_xg[2],r8_xg[3]))"
   ]
  },
  {
   "cell_type": "code",
   "execution_count": 31,
   "metadata": {},
   "outputs": [],
   "source": [
    "accu['XGBoost Regressor']=r8_xg\n",
    "accu.to_csv('errors.csv')"
   ]
  },
  {
   "cell_type": "markdown",
   "metadata": {},
   "source": [
    "# Overall Result"
   ]
  },
  {
   "cell_type": "code",
   "execution_count": 32,
   "metadata": {},
   "outputs": [
    {
     "data": {
      "text/html": [
       "<div>\n",
       "<style scoped>\n",
       "    .dataframe tbody tr th:only-of-type {\n",
       "        vertical-align: middle;\n",
       "    }\n",
       "\n",
       "    .dataframe tbody tr th {\n",
       "        vertical-align: top;\n",
       "    }\n",
       "\n",
       "    .dataframe thead th {\n",
       "        text-align: right;\n",
       "    }\n",
       "</style>\n",
       "<table border=\"1\" class=\"dataframe\">\n",
       "  <thead>\n",
       "    <tr style=\"text-align: right;\">\n",
       "      <th></th>\n",
       "      <th>Linear Regression</th>\n",
       "      <th>Ridge Regression</th>\n",
       "      <th>Lasso Regression</th>\n",
       "      <th>KNN</th>\n",
       "      <th>RandomForest Regressor</th>\n",
       "      <th>Bagging Regressor</th>\n",
       "      <th>AdaBoost Regressor</th>\n",
       "      <th>XGBoost Regressor</th>\n",
       "    </tr>\n",
       "  </thead>\n",
       "  <tbody>\n",
       "    <tr>\n",
       "      <th>MSLE</th>\n",
       "      <td>0.002416</td>\n",
       "      <td>0.002416</td>\n",
       "      <td>0.002416</td>\n",
       "      <td>0.001278</td>\n",
       "      <td>0.000611</td>\n",
       "      <td>0.001178</td>\n",
       "      <td>0.000645</td>\n",
       "      <td>0.000513</td>\n",
       "    </tr>\n",
       "    <tr>\n",
       "      <th>Root MSLE</th>\n",
       "      <td>0.049155</td>\n",
       "      <td>0.049154</td>\n",
       "      <td>0.049154</td>\n",
       "      <td>0.035744</td>\n",
       "      <td>0.024721</td>\n",
       "      <td>0.034320</td>\n",
       "      <td>0.025388</td>\n",
       "      <td>0.022645</td>\n",
       "    </tr>\n",
       "    <tr>\n",
       "      <th>R2 Score</th>\n",
       "      <td>0.625565</td>\n",
       "      <td>0.625565</td>\n",
       "      <td>0.625575</td>\n",
       "      <td>0.809270</td>\n",
       "      <td>0.911834</td>\n",
       "      <td>0.826755</td>\n",
       "      <td>0.905635</td>\n",
       "      <td>0.925811</td>\n",
       "    </tr>\n",
       "    <tr>\n",
       "      <th>Accuracy(%)</th>\n",
       "      <td>62.556500</td>\n",
       "      <td>62.556500</td>\n",
       "      <td>62.557500</td>\n",
       "      <td>80.927000</td>\n",
       "      <td>91.183400</td>\n",
       "      <td>82.675500</td>\n",
       "      <td>90.563500</td>\n",
       "      <td>92.581100</td>\n",
       "    </tr>\n",
       "  </tbody>\n",
       "</table>\n",
       "</div>"
      ],
      "text/plain": [
       "             Linear Regression  Ridge Regression  Lasso Regression        KNN  \\\n",
       "MSLE                  0.002416          0.002416          0.002416   0.001278   \n",
       "Root MSLE             0.049155          0.049154          0.049154   0.035744   \n",
       "R2 Score              0.625565          0.625565          0.625575   0.809270   \n",
       "Accuracy(%)          62.556500         62.556500         62.557500  80.927000   \n",
       "\n",
       "             RandomForest Regressor  Bagging Regressor  AdaBoost Regressor  \\\n",
       "MSLE                       0.000611           0.001178            0.000645   \n",
       "Root MSLE                  0.024721           0.034320            0.025388   \n",
       "R2 Score                   0.911834           0.826755            0.905635   \n",
       "Accuracy(%)               91.183400          82.675500           90.563500   \n",
       "\n",
       "             XGBoost Regressor  \n",
       "MSLE                  0.000513  \n",
       "Root MSLE             0.022645  \n",
       "R2 Score              0.925811  \n",
       "Accuracy(%)          92.581100  "
      ]
     },
     "execution_count": 32,
     "metadata": {},
     "output_type": "execute_result"
    }
   ],
   "source": [
    "accu=pd.read_csv('./errors.csv',index_col=0)\n",
    "accu"
   ]
  },
  {
   "cell_type": "code",
   "execution_count": 33,
   "metadata": {},
   "outputs": [],
   "source": [
    "import pickle\n",
    "\n",
    "with open(\"xg_reg.pkl\",\"wb\") as file:\n",
    "    pickle.dump(xg_reg,file)"
   ]
  },
  {
   "cell_type": "code",
   "execution_count": null,
   "metadata": {},
   "outputs": [],
   "source": []
  }
 ],
 "metadata": {
  "kernelspec": {
   "display_name": "Python 3 (ipykernel)",
   "language": "python",
   "name": "python3"
  },
  "language_info": {
   "codemirror_mode": {
    "name": "ipython",
    "version": 3
   },
   "file_extension": ".py",
   "mimetype": "text/x-python",
   "name": "python",
   "nbconvert_exporter": "python",
   "pygments_lexer": "ipython3",
   "version": "3.10.6"
  }
 },
 "nbformat": 4,
 "nbformat_minor": 4
}
