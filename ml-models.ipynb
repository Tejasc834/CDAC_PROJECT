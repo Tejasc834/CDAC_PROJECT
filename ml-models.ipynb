{
 "cells": [
  {
   "cell_type": "markdown",
   "metadata": {},
   "source": [
    "# Libraries"
   ]
  },
  {
   "cell_type": "code",
   "execution_count": 41,
   "metadata": {},
   "outputs": [],
   "source": [
    "import pandas as pd\n",
    "import numpy as np\n",
    "import time\n",
    "from tqdm import tqdm\n",
    "import matplotlib\n",
    "import matplotlib.pyplot as plt\n",
    "\n",
    "#libraries for preprocessing\n",
    "from sklearn import preprocessing\n",
    "from sklearn.preprocessing import StandardScaler\n",
    "from sklearn.preprocessing import MinMaxScaler\n",
    "\n",
    "#libraries for evaluation\n",
    "from sklearn.metrics import mean_squared_log_error,r2_score,mean_squared_error\n",
    "from sklearn.model_selection import train_test_split\n",
    "\n",
    "\n",
    "#libraries for models\n",
    "from sklearn.linear_model import LinearRegression\n",
    "\n",
    "from sklearn.linear_model import Ridge\n",
    "from sklearn.linear_model import LassoCV,RidgeCV\n",
    "\n",
    "from sklearn.linear_model import Lasso\n",
    "\n",
    "from sklearn.neighbors import KNeighborsRegressor\n",
    "\n",
    "from sklearn.ensemble import RandomForestRegressor\n",
    "\n",
    "from sklearn.ensemble import BaggingRegressor\n",
    "from sklearn.tree import DecisionTreeRegressor\n",
    "from sklearn.svm import SVR\n",
    "\n",
    "from sklearn.ensemble import AdaBoostRegressor\n",
    "\n",
    "import xgboost as xgb\n",
    "\n",
    "import warnings\n",
    "warnings.filterwarnings('ignore')"
   ]
  },
  {
   "cell_type": "code",
   "execution_count": 42,
   "metadata": {},
   "outputs": [
    {
     "data": {
      "text/html": [
       "<div>\n",
       "<style scoped>\n",
       "    .dataframe tbody tr th:only-of-type {\n",
       "        vertical-align: middle;\n",
       "    }\n",
       "\n",
       "    .dataframe tbody tr th {\n",
       "        vertical-align: top;\n",
       "    }\n",
       "\n",
       "    .dataframe thead th {\n",
       "        text-align: right;\n",
       "    }\n",
       "</style>\n",
       "<table border=\"1\" class=\"dataframe\">\n",
       "  <thead>\n",
       "    <tr style=\"text-align: right;\">\n",
       "      <th></th>\n",
       "      <th>year</th>\n",
       "      <th>manufacturer</th>\n",
       "      <th>model</th>\n",
       "      <th>condition</th>\n",
       "      <th>cylinders</th>\n",
       "      <th>fuel</th>\n",
       "      <th>odometer</th>\n",
       "      <th>title_status</th>\n",
       "      <th>transmission</th>\n",
       "      <th>drive</th>\n",
       "      <th>type</th>\n",
       "      <th>paint_color</th>\n",
       "      <th>state</th>\n",
       "      <th>price</th>\n",
       "    </tr>\n",
       "  </thead>\n",
       "  <tbody>\n",
       "    <tr>\n",
       "      <th>0</th>\n",
       "      <td>2011.236531</td>\n",
       "      <td>infiniti</td>\n",
       "      <td>g series</td>\n",
       "      <td>fair</td>\n",
       "      <td>5 cylinders</td>\n",
       "      <td>gas</td>\n",
       "      <td>98002.246362</td>\n",
       "      <td>clean</td>\n",
       "      <td>automatic</td>\n",
       "      <td>4wd</td>\n",
       "      <td>offroad</td>\n",
       "      <td>grey</td>\n",
       "      <td>az</td>\n",
       "      <td>6000</td>\n",
       "    </tr>\n",
       "    <tr>\n",
       "      <th>1</th>\n",
       "      <td>2011.236531</td>\n",
       "      <td>infiniti</td>\n",
       "      <td>g series</td>\n",
       "      <td>fair</td>\n",
       "      <td>5 cylinders</td>\n",
       "      <td>gas</td>\n",
       "      <td>98002.246362</td>\n",
       "      <td>clean</td>\n",
       "      <td>automatic</td>\n",
       "      <td>4wd</td>\n",
       "      <td>offroad</td>\n",
       "      <td>grey</td>\n",
       "      <td>ar</td>\n",
       "      <td>11900</td>\n",
       "    </tr>\n",
       "    <tr>\n",
       "      <th>2</th>\n",
       "      <td>2011.236531</td>\n",
       "      <td>infiniti</td>\n",
       "      <td>g series</td>\n",
       "      <td>fair</td>\n",
       "      <td>5 cylinders</td>\n",
       "      <td>gas</td>\n",
       "      <td>98002.246362</td>\n",
       "      <td>clean</td>\n",
       "      <td>automatic</td>\n",
       "      <td>4wd</td>\n",
       "      <td>offroad</td>\n",
       "      <td>grey</td>\n",
       "      <td>fl</td>\n",
       "      <td>21000</td>\n",
       "    </tr>\n",
       "    <tr>\n",
       "      <th>3</th>\n",
       "      <td>2011.236531</td>\n",
       "      <td>infiniti</td>\n",
       "      <td>g series</td>\n",
       "      <td>fair</td>\n",
       "      <td>5 cylinders</td>\n",
       "      <td>gas</td>\n",
       "      <td>98002.246362</td>\n",
       "      <td>clean</td>\n",
       "      <td>automatic</td>\n",
       "      <td>4wd</td>\n",
       "      <td>offroad</td>\n",
       "      <td>grey</td>\n",
       "      <td>ma</td>\n",
       "      <td>1500</td>\n",
       "    </tr>\n",
       "    <tr>\n",
       "      <th>4</th>\n",
       "      <td>2011.236531</td>\n",
       "      <td>infiniti</td>\n",
       "      <td>g series</td>\n",
       "      <td>fair</td>\n",
       "      <td>5 cylinders</td>\n",
       "      <td>gas</td>\n",
       "      <td>98002.246362</td>\n",
       "      <td>clean</td>\n",
       "      <td>automatic</td>\n",
       "      <td>4wd</td>\n",
       "      <td>offroad</td>\n",
       "      <td>grey</td>\n",
       "      <td>nc</td>\n",
       "      <td>4900</td>\n",
       "    </tr>\n",
       "  </tbody>\n",
       "</table>\n",
       "</div>"
      ],
      "text/plain": [
       "          year manufacturer     model condition    cylinders fuel  \\\n",
       "0  2011.236531     infiniti  g series      fair  5 cylinders  gas   \n",
       "1  2011.236531     infiniti  g series      fair  5 cylinders  gas   \n",
       "2  2011.236531     infiniti  g series      fair  5 cylinders  gas   \n",
       "3  2011.236531     infiniti  g series      fair  5 cylinders  gas   \n",
       "4  2011.236531     infiniti  g series      fair  5 cylinders  gas   \n",
       "\n",
       "       odometer title_status transmission drive     type paint_color state  \\\n",
       "0  98002.246362        clean    automatic   4wd  offroad        grey    az   \n",
       "1  98002.246362        clean    automatic   4wd  offroad        grey    ar   \n",
       "2  98002.246362        clean    automatic   4wd  offroad        grey    fl   \n",
       "3  98002.246362        clean    automatic   4wd  offroad        grey    ma   \n",
       "4  98002.246362        clean    automatic   4wd  offroad        grey    nc   \n",
       "\n",
       "   price  \n",
       "0   6000  \n",
       "1  11900  \n",
       "2  21000  \n",
       "3   1500  \n",
       "4   4900  "
      ]
     },
     "execution_count": 42,
     "metadata": {},
     "output_type": "execute_result"
    }
   ],
   "source": [
    "#Loading Dataframe\n",
    "\n",
    "#df=pd.read_csv(\"vehiclesFinal2.csv\")\n",
    "df=pd.read_csv(\"vehiclesFinal.csv\")\n",
    "#df=df.drop('Unnamed: 0',axis=1)\n",
    "df=df.drop('id',axis=1)\n",
    "\n",
    "df=df.drop('lat',axis=1)\n",
    "df=df.drop('long',axis=1)\n",
    "df=df.drop('size',axis=1)\n",
    "\n",
    "df2=df.copy()\n",
    "df.head()"
   ]
  },
  {
   "cell_type": "code",
   "execution_count": 47,
   "metadata": {},
   "outputs": [],
   "source": [
    "#defining numerical and categorical values\n",
    "\n",
    "num_col=['year','odometer']\n",
    "cat_cols=['state','manufacturer','model','condition','cylinders','fuel','title_status','transmission','drive','type','paint_color']"
   ]
  },
  {
   "cell_type": "markdown",
   "metadata": {},
   "source": [
    "# 1) Transforming categorical columns values into integer values"
   ]
  },
  {
   "cell_type": "code",
   "execution_count": 48,
   "metadata": {},
   "outputs": [],
   "source": [
    "le=preprocessing.LabelEncoder()\n",
    "df[cat_cols]=df[cat_cols].apply(le.fit_transform)"
   ]
  },
  {
   "cell_type": "code",
   "execution_count": 49,
   "metadata": {},
   "outputs": [
    {
     "data": {
      "text/html": [
       "<div>\n",
       "<style scoped>\n",
       "    .dataframe tbody tr th:only-of-type {\n",
       "        vertical-align: middle;\n",
       "    }\n",
       "\n",
       "    .dataframe tbody tr th {\n",
       "        vertical-align: top;\n",
       "    }\n",
       "\n",
       "    .dataframe thead th {\n",
       "        text-align: right;\n",
       "    }\n",
       "</style>\n",
       "<table border=\"1\" class=\"dataframe\">\n",
       "  <thead>\n",
       "    <tr style=\"text-align: right;\">\n",
       "      <th></th>\n",
       "      <th>year</th>\n",
       "      <th>manufacturer</th>\n",
       "      <th>model</th>\n",
       "      <th>condition</th>\n",
       "      <th>cylinders</th>\n",
       "      <th>fuel</th>\n",
       "      <th>odometer</th>\n",
       "      <th>title_status</th>\n",
       "      <th>transmission</th>\n",
       "      <th>drive</th>\n",
       "      <th>type</th>\n",
       "      <th>paint_color</th>\n",
       "      <th>state</th>\n",
       "      <th>price</th>\n",
       "    </tr>\n",
       "  </thead>\n",
       "  <tbody>\n",
       "    <tr>\n",
       "      <th>0</th>\n",
       "      <td>2011.236531</td>\n",
       "      <td>17</td>\n",
       "      <td>12954</td>\n",
       "      <td>1</td>\n",
       "      <td>4</td>\n",
       "      <td>2</td>\n",
       "      <td>98002.246362</td>\n",
       "      <td>0</td>\n",
       "      <td>0</td>\n",
       "      <td>0</td>\n",
       "      <td>6</td>\n",
       "      <td>5</td>\n",
       "      <td>3</td>\n",
       "      <td>6000</td>\n",
       "    </tr>\n",
       "    <tr>\n",
       "      <th>1</th>\n",
       "      <td>2011.236531</td>\n",
       "      <td>17</td>\n",
       "      <td>12954</td>\n",
       "      <td>1</td>\n",
       "      <td>4</td>\n",
       "      <td>2</td>\n",
       "      <td>98002.246362</td>\n",
       "      <td>0</td>\n",
       "      <td>0</td>\n",
       "      <td>0</td>\n",
       "      <td>6</td>\n",
       "      <td>5</td>\n",
       "      <td>2</td>\n",
       "      <td>11900</td>\n",
       "    </tr>\n",
       "    <tr>\n",
       "      <th>2</th>\n",
       "      <td>2011.236531</td>\n",
       "      <td>17</td>\n",
       "      <td>12954</td>\n",
       "      <td>1</td>\n",
       "      <td>4</td>\n",
       "      <td>2</td>\n",
       "      <td>98002.246362</td>\n",
       "      <td>0</td>\n",
       "      <td>0</td>\n",
       "      <td>0</td>\n",
       "      <td>6</td>\n",
       "      <td>5</td>\n",
       "      <td>9</td>\n",
       "      <td>21000</td>\n",
       "    </tr>\n",
       "    <tr>\n",
       "      <th>3</th>\n",
       "      <td>2011.236531</td>\n",
       "      <td>17</td>\n",
       "      <td>12954</td>\n",
       "      <td>1</td>\n",
       "      <td>4</td>\n",
       "      <td>2</td>\n",
       "      <td>98002.246362</td>\n",
       "      <td>0</td>\n",
       "      <td>0</td>\n",
       "      <td>0</td>\n",
       "      <td>6</td>\n",
       "      <td>5</td>\n",
       "      <td>19</td>\n",
       "      <td>1500</td>\n",
       "    </tr>\n",
       "    <tr>\n",
       "      <th>4</th>\n",
       "      <td>2011.236531</td>\n",
       "      <td>17</td>\n",
       "      <td>12954</td>\n",
       "      <td>1</td>\n",
       "      <td>4</td>\n",
       "      <td>2</td>\n",
       "      <td>98002.246362</td>\n",
       "      <td>0</td>\n",
       "      <td>0</td>\n",
       "      <td>0</td>\n",
       "      <td>6</td>\n",
       "      <td>5</td>\n",
       "      <td>27</td>\n",
       "      <td>4900</td>\n",
       "    </tr>\n",
       "    <tr>\n",
       "      <th>5</th>\n",
       "      <td>2011.236531</td>\n",
       "      <td>17</td>\n",
       "      <td>12954</td>\n",
       "      <td>1</td>\n",
       "      <td>4</td>\n",
       "      <td>2</td>\n",
       "      <td>98002.246362</td>\n",
       "      <td>0</td>\n",
       "      <td>0</td>\n",
       "      <td>0</td>\n",
       "      <td>6</td>\n",
       "      <td>5</td>\n",
       "      <td>34</td>\n",
       "      <td>1600</td>\n",
       "    </tr>\n",
       "    <tr>\n",
       "      <th>6</th>\n",
       "      <td>2011.236531</td>\n",
       "      <td>17</td>\n",
       "      <td>12954</td>\n",
       "      <td>1</td>\n",
       "      <td>4</td>\n",
       "      <td>2</td>\n",
       "      <td>98002.246362</td>\n",
       "      <td>0</td>\n",
       "      <td>0</td>\n",
       "      <td>0</td>\n",
       "      <td>6</td>\n",
       "      <td>5</td>\n",
       "      <td>34</td>\n",
       "      <td>1000</td>\n",
       "    </tr>\n",
       "    <tr>\n",
       "      <th>7</th>\n",
       "      <td>2011.236531</td>\n",
       "      <td>17</td>\n",
       "      <td>12954</td>\n",
       "      <td>1</td>\n",
       "      <td>4</td>\n",
       "      <td>2</td>\n",
       "      <td>98002.246362</td>\n",
       "      <td>0</td>\n",
       "      <td>0</td>\n",
       "      <td>0</td>\n",
       "      <td>6</td>\n",
       "      <td>5</td>\n",
       "      <td>34</td>\n",
       "      <td>15995</td>\n",
       "    </tr>\n",
       "    <tr>\n",
       "      <th>8</th>\n",
       "      <td>2011.236531</td>\n",
       "      <td>17</td>\n",
       "      <td>12954</td>\n",
       "      <td>1</td>\n",
       "      <td>4</td>\n",
       "      <td>2</td>\n",
       "      <td>98002.246362</td>\n",
       "      <td>0</td>\n",
       "      <td>0</td>\n",
       "      <td>0</td>\n",
       "      <td>6</td>\n",
       "      <td>5</td>\n",
       "      <td>37</td>\n",
       "      <td>5000</td>\n",
       "    </tr>\n",
       "    <tr>\n",
       "      <th>9</th>\n",
       "      <td>2011.236531</td>\n",
       "      <td>17</td>\n",
       "      <td>12954</td>\n",
       "      <td>1</td>\n",
       "      <td>4</td>\n",
       "      <td>2</td>\n",
       "      <td>98002.246362</td>\n",
       "      <td>0</td>\n",
       "      <td>0</td>\n",
       "      <td>0</td>\n",
       "      <td>6</td>\n",
       "      <td>5</td>\n",
       "      <td>38</td>\n",
       "      <td>3000</td>\n",
       "    </tr>\n",
       "  </tbody>\n",
       "</table>\n",
       "</div>"
      ],
      "text/plain": [
       "          year  manufacturer  model  condition  cylinders  fuel      odometer  \\\n",
       "0  2011.236531            17  12954          1          4     2  98002.246362   \n",
       "1  2011.236531            17  12954          1          4     2  98002.246362   \n",
       "2  2011.236531            17  12954          1          4     2  98002.246362   \n",
       "3  2011.236531            17  12954          1          4     2  98002.246362   \n",
       "4  2011.236531            17  12954          1          4     2  98002.246362   \n",
       "5  2011.236531            17  12954          1          4     2  98002.246362   \n",
       "6  2011.236531            17  12954          1          4     2  98002.246362   \n",
       "7  2011.236531            17  12954          1          4     2  98002.246362   \n",
       "8  2011.236531            17  12954          1          4     2  98002.246362   \n",
       "9  2011.236531            17  12954          1          4     2  98002.246362   \n",
       "\n",
       "   title_status  transmission  drive  type  paint_color  state  price  \n",
       "0             0             0      0     6            5      3   6000  \n",
       "1             0             0      0     6            5      2  11900  \n",
       "2             0             0      0     6            5      9  21000  \n",
       "3             0             0      0     6            5     19   1500  \n",
       "4             0             0      0     6            5     27   4900  \n",
       "5             0             0      0     6            5     34   1600  \n",
       "6             0             0      0     6            5     34   1000  \n",
       "7             0             0      0     6            5     34  15995  \n",
       "8             0             0      0     6            5     37   5000  \n",
       "9             0             0      0     6            5     38   3000  "
      ]
     },
     "execution_count": 49,
     "metadata": {},
     "output_type": "execute_result"
    }
   ],
   "source": [
    "df.head(10)"
   ]
  },
  {
   "cell_type": "markdown",
   "metadata": {},
   "source": [
    "# 2) Scaling Dataset"
   ]
  },
  {
   "cell_type": "code",
   "execution_count": 50,
   "metadata": {},
   "outputs": [],
   "source": [
    "#scaling numerical data\n",
    "\n",
    "norm = StandardScaler()\n",
    "df['price'] = np.log(df['price'])\n",
    "df['odometer'] = norm.fit_transform(np.array(df['odometer']).reshape(-1,1))\n",
    "df['year'] = norm.fit_transform(np.array(df['year']).reshape(-1,1))\n",
    "#df['model'] = norm.fit_transform(np.array(df['model']).reshape(-1,1))\n",
    "\n",
    "#scaling target variable\n",
    "q1,q3=(df['price'].quantile([0.25,0.75]))\n",
    "o1=q1-1.5*(q3-q1)\n",
    "o2=q3+1.5*(q3-q1)\n",
    "df=df[(df.price>=o1) & (df.price<=o2)]\n",
    "\n",
    "#df['state'] = norm.fit_transform(np.arradf['state'] = norm.fit_transform(np.array(df['state']).reshape(-1,1))y(df['state']).reshape(-1,1))\n"
   ]
  },
  {
   "cell_type": "code",
   "execution_count": 51,
   "metadata": {},
   "outputs": [
    {
     "data": {
      "text/html": [
       "<div>\n",
       "<style scoped>\n",
       "    .dataframe tbody tr th:only-of-type {\n",
       "        vertical-align: middle;\n",
       "    }\n",
       "\n",
       "    .dataframe tbody tr th {\n",
       "        vertical-align: top;\n",
       "    }\n",
       "\n",
       "    .dataframe thead th {\n",
       "        text-align: right;\n",
       "    }\n",
       "</style>\n",
       "<table border=\"1\" class=\"dataframe\">\n",
       "  <thead>\n",
       "    <tr style=\"text-align: right;\">\n",
       "      <th></th>\n",
       "      <th>year</th>\n",
       "      <th>manufacturer</th>\n",
       "      <th>model</th>\n",
       "      <th>condition</th>\n",
       "      <th>cylinders</th>\n",
       "      <th>fuel</th>\n",
       "      <th>odometer</th>\n",
       "      <th>title_status</th>\n",
       "      <th>transmission</th>\n",
       "      <th>drive</th>\n",
       "      <th>type</th>\n",
       "      <th>paint_color</th>\n",
       "      <th>state</th>\n",
       "      <th>price</th>\n",
       "    </tr>\n",
       "  </thead>\n",
       "  <tbody>\n",
       "    <tr>\n",
       "      <th>0</th>\n",
       "      <td>-0.229793</td>\n",
       "      <td>17</td>\n",
       "      <td>12954</td>\n",
       "      <td>1</td>\n",
       "      <td>4</td>\n",
       "      <td>2</td>\n",
       "      <td>0.103068</td>\n",
       "      <td>0</td>\n",
       "      <td>0</td>\n",
       "      <td>0</td>\n",
       "      <td>6</td>\n",
       "      <td>5</td>\n",
       "      <td>3</td>\n",
       "      <td>8.699515</td>\n",
       "    </tr>\n",
       "    <tr>\n",
       "      <th>1</th>\n",
       "      <td>-0.229793</td>\n",
       "      <td>17</td>\n",
       "      <td>12954</td>\n",
       "      <td>1</td>\n",
       "      <td>4</td>\n",
       "      <td>2</td>\n",
       "      <td>0.103068</td>\n",
       "      <td>0</td>\n",
       "      <td>0</td>\n",
       "      <td>0</td>\n",
       "      <td>6</td>\n",
       "      <td>5</td>\n",
       "      <td>2</td>\n",
       "      <td>9.384294</td>\n",
       "    </tr>\n",
       "  </tbody>\n",
       "</table>\n",
       "</div>"
      ],
      "text/plain": [
       "       year  manufacturer  model  condition  cylinders  fuel  odometer  \\\n",
       "0 -0.229793            17  12954          1          4     2  0.103068   \n",
       "1 -0.229793            17  12954          1          4     2  0.103068   \n",
       "\n",
       "   title_status  transmission  drive  type  paint_color  state     price  \n",
       "0             0             0      0     6            5      3  8.699515  \n",
       "1             0             0      0     6            5      2  9.384294  "
      ]
     },
     "execution_count": 51,
     "metadata": {},
     "output_type": "execute_result"
    }
   ],
   "source": [
    "df.head(2)"
   ]
  },
  {
   "cell_type": "code",
   "execution_count": 52,
   "metadata": {},
   "outputs": [],
   "source": [
    "#function to split dataset int training and test\n",
    "def trainingData(df,n):\n",
    "    X = df.iloc[:,n]\n",
    "    y = df.iloc[:,-1:].values.T\n",
    "    y=y[0]\n",
    "    X_train,X_test,y_train,y_test=train_test_split(X,y,train_size=0.9,test_size=0.1,random_state=0)\n",
    "    return (X_train,X_test,y_train,y_test)\n",
    "\n",
    "X_train,X_test,y_train,y_test=trainingData(df,list(range(len(list(df.columns))-1)))"
   ]
  },
  {
   "cell_type": "code",
   "execution_count": 53,
   "metadata": {},
   "outputs": [
    {
     "data": {
      "text/html": [
       "<div>\n",
       "<style scoped>\n",
       "    .dataframe tbody tr th:only-of-type {\n",
       "        vertical-align: middle;\n",
       "    }\n",
       "\n",
       "    .dataframe tbody tr th {\n",
       "        vertical-align: top;\n",
       "    }\n",
       "\n",
       "    .dataframe thead th {\n",
       "        text-align: right;\n",
       "    }\n",
       "</style>\n",
       "<table border=\"1\" class=\"dataframe\">\n",
       "  <thead>\n",
       "    <tr style=\"text-align: right;\">\n",
       "      <th></th>\n",
       "      <th>year</th>\n",
       "      <th>manufacturer</th>\n",
       "      <th>model</th>\n",
       "      <th>condition</th>\n",
       "      <th>cylinders</th>\n",
       "      <th>fuel</th>\n",
       "      <th>odometer</th>\n",
       "      <th>title_status</th>\n",
       "      <th>transmission</th>\n",
       "      <th>drive</th>\n",
       "      <th>type</th>\n",
       "      <th>paint_color</th>\n",
       "      <th>state</th>\n",
       "    </tr>\n",
       "  </thead>\n",
       "  <tbody>\n",
       "    <tr>\n",
       "      <th>252984</th>\n",
       "      <td>-1.549198</td>\n",
       "      <td>7</td>\n",
       "      <td>10651</td>\n",
       "      <td>0</td>\n",
       "      <td>6</td>\n",
       "      <td>2</td>\n",
       "      <td>0.480285</td>\n",
       "      <td>0</td>\n",
       "      <td>0</td>\n",
       "      <td>2</td>\n",
       "      <td>11</td>\n",
       "      <td>8</td>\n",
       "      <td>35</td>\n",
       "    </tr>\n",
       "    <tr>\n",
       "      <th>359446</th>\n",
       "      <td>-0.637570</td>\n",
       "      <td>19</td>\n",
       "      <td>16941</td>\n",
       "      <td>2</td>\n",
       "      <td>3</td>\n",
       "      <td>2</td>\n",
       "      <td>1.708919</td>\n",
       "      <td>0</td>\n",
       "      <td>0</td>\n",
       "      <td>0</td>\n",
       "      <td>0</td>\n",
       "      <td>10</td>\n",
       "      <td>48</td>\n",
       "    </tr>\n",
       "    <tr>\n",
       "      <th>336293</th>\n",
       "      <td>-1.366873</td>\n",
       "      <td>34</td>\n",
       "      <td>15058</td>\n",
       "      <td>1</td>\n",
       "      <td>4</td>\n",
       "      <td>2</td>\n",
       "      <td>1.136379</td>\n",
       "      <td>0</td>\n",
       "      <td>0</td>\n",
       "      <td>0</td>\n",
       "      <td>6</td>\n",
       "      <td>5</td>\n",
       "      <td>45</td>\n",
       "    </tr>\n",
       "    <tr>\n",
       "      <th>336806</th>\n",
       "      <td>-0.637570</td>\n",
       "      <td>15</td>\n",
       "      <td>5542</td>\n",
       "      <td>1</td>\n",
       "      <td>4</td>\n",
       "      <td>2</td>\n",
       "      <td>0.269678</td>\n",
       "      <td>0</td>\n",
       "      <td>0</td>\n",
       "      <td>0</td>\n",
       "      <td>9</td>\n",
       "      <td>4</td>\n",
       "      <td>45</td>\n",
       "    </tr>\n",
       "    <tr>\n",
       "      <th>107426</th>\n",
       "      <td>0.821035</td>\n",
       "      <td>12</td>\n",
       "      <td>12017</td>\n",
       "      <td>1</td>\n",
       "      <td>4</td>\n",
       "      <td>2</td>\n",
       "      <td>0.621903</td>\n",
       "      <td>0</td>\n",
       "      <td>0</td>\n",
       "      <td>0</td>\n",
       "      <td>6</td>\n",
       "      <td>10</td>\n",
       "      <td>10</td>\n",
       "    </tr>\n",
       "    <tr>\n",
       "      <th>...</th>\n",
       "      <td>...</td>\n",
       "      <td>...</td>\n",
       "      <td>...</td>\n",
       "      <td>...</td>\n",
       "      <td>...</td>\n",
       "      <td>...</td>\n",
       "      <td>...</td>\n",
       "      <td>...</td>\n",
       "      <td>...</td>\n",
       "      <td>...</td>\n",
       "      <td>...</td>\n",
       "      <td>...</td>\n",
       "      <td>...</td>\n",
       "    </tr>\n",
       "    <tr>\n",
       "      <th>363512</th>\n",
       "      <td>1.003361</td>\n",
       "      <td>8</td>\n",
       "      <td>1649</td>\n",
       "      <td>1</td>\n",
       "      <td>4</td>\n",
       "      <td>2</td>\n",
       "      <td>-1.177942</td>\n",
       "      <td>0</td>\n",
       "      <td>0</td>\n",
       "      <td>0</td>\n",
       "      <td>6</td>\n",
       "      <td>5</td>\n",
       "      <td>48</td>\n",
       "    </tr>\n",
       "    <tr>\n",
       "      <th>361797</th>\n",
       "      <td>-1.184547</td>\n",
       "      <td>38</td>\n",
       "      <td>22183</td>\n",
       "      <td>1</td>\n",
       "      <td>4</td>\n",
       "      <td>2</td>\n",
       "      <td>2.572764</td>\n",
       "      <td>0</td>\n",
       "      <td>0</td>\n",
       "      <td>0</td>\n",
       "      <td>10</td>\n",
       "      <td>9</td>\n",
       "      <td>48</td>\n",
       "    </tr>\n",
       "    <tr>\n",
       "      <th>153667</th>\n",
       "      <td>-1.184547</td>\n",
       "      <td>7</td>\n",
       "      <td>10686</td>\n",
       "      <td>2</td>\n",
       "      <td>6</td>\n",
       "      <td>0</td>\n",
       "      <td>0.698371</td>\n",
       "      <td>0</td>\n",
       "      <td>0</td>\n",
       "      <td>2</td>\n",
       "      <td>10</td>\n",
       "      <td>10</td>\n",
       "      <td>21</td>\n",
       "    </tr>\n",
       "    <tr>\n",
       "      <th>119076</th>\n",
       "      <td>0.638710</td>\n",
       "      <td>38</td>\n",
       "      <td>7148</td>\n",
       "      <td>0</td>\n",
       "      <td>3</td>\n",
       "      <td>2</td>\n",
       "      <td>-0.602269</td>\n",
       "      <td>0</td>\n",
       "      <td>0</td>\n",
       "      <td>1</td>\n",
       "      <td>9</td>\n",
       "      <td>8</td>\n",
       "      <td>14</td>\n",
       "    </tr>\n",
       "    <tr>\n",
       "      <th>308803</th>\n",
       "      <td>-0.819896</td>\n",
       "      <td>5</td>\n",
       "      <td>9903</td>\n",
       "      <td>2</td>\n",
       "      <td>5</td>\n",
       "      <td>2</td>\n",
       "      <td>0.115924</td>\n",
       "      <td>0</td>\n",
       "      <td>0</td>\n",
       "      <td>0</td>\n",
       "      <td>0</td>\n",
       "      <td>5</td>\n",
       "      <td>42</td>\n",
       "    </tr>\n",
       "  </tbody>\n",
       "</table>\n",
       "<p>324643 rows × 13 columns</p>\n",
       "</div>"
      ],
      "text/plain": [
       "            year  manufacturer  model  condition  cylinders  fuel  odometer  \\\n",
       "252984 -1.549198             7  10651          0          6     2  0.480285   \n",
       "359446 -0.637570            19  16941          2          3     2  1.708919   \n",
       "336293 -1.366873            34  15058          1          4     2  1.136379   \n",
       "336806 -0.637570            15   5542          1          4     2  0.269678   \n",
       "107426  0.821035            12  12017          1          4     2  0.621903   \n",
       "...          ...           ...    ...        ...        ...   ...       ...   \n",
       "363512  1.003361             8   1649          1          4     2 -1.177942   \n",
       "361797 -1.184547            38  22183          1          4     2  2.572764   \n",
       "153667 -1.184547             7  10686          2          6     0  0.698371   \n",
       "119076  0.638710            38   7148          0          3     2 -0.602269   \n",
       "308803 -0.819896             5   9903          2          5     2  0.115924   \n",
       "\n",
       "        title_status  transmission  drive  type  paint_color  state  \n",
       "252984             0             0      2    11            8     35  \n",
       "359446             0             0      0     0           10     48  \n",
       "336293             0             0      0     6            5     45  \n",
       "336806             0             0      0     9            4     45  \n",
       "107426             0             0      0     6           10     10  \n",
       "...              ...           ...    ...   ...          ...    ...  \n",
       "363512             0             0      0     6            5     48  \n",
       "361797             0             0      0    10            9     48  \n",
       "153667             0             0      2    10           10     21  \n",
       "119076             0             0      1     9            8     14  \n",
       "308803             0             0      0     0            5     42  \n",
       "\n",
       "[324643 rows x 13 columns]"
      ]
     },
     "execution_count": 53,
     "metadata": {},
     "output_type": "execute_result"
    }
   ],
   "source": [
    "X_train"
   ]
  },
  {
   "cell_type": "code",
   "execution_count": 54,
   "metadata": {},
   "outputs": [],
   "source": [
    "#some of models will predict neg values so this function will remove that values\n",
    "def remove_neg(y_test,y_pred):\n",
    "    ind=[index for index in range(len(y_pred)) if(y_pred[index]>0)]\n",
    "    y_pred=y_pred[ind]\n",
    "    y_test=y_test[ind]\n",
    "    y_pred[y_pred<0]\n",
    "    return (y_test,y_pred)\n",
    "\n",
    "#function for evaluation of model\n",
    "def result(y_test,y_pred):\n",
    "    r=[]\n",
    "    r.append(mean_squared_log_error(y_test, y_pred))\n",
    "    r.append(np.sqrt(r[0]))\n",
    "    r.append(r2_score(y_test,y_pred))\n",
    "    r.append(round(r2_score(y_test,y_pred)*100,4))\n",
    "    return (r)\n",
    "\n",
    "#dataframe that store the performance of each model\n",
    "accu=pd.DataFrame(index=['MSLE', 'Root MSLE', 'R2 Score','Accuracy(%)'])    "
   ]
  },
  {
   "cell_type": "markdown",
   "metadata": {},
   "source": [
    "# 3) Model Implementation\n",
    "### 1)Linear Regression\n",
    "### 2)Ridge Regression\n",
    "### 3)Lasso Regression\n",
    "### 4)K-Neighbors Regressor\n",
    "### 5)Random Forest Regressor\n",
    "### 6)Bagging Regressor\n",
    "### 7)Adaboost Regressor\n",
    "### 8)XGBoost"
   ]
  },
  {
   "cell_type": "markdown",
   "metadata": {},
   "source": [
    "## 1) Linear Regression"
   ]
  },
  {
   "cell_type": "code",
   "execution_count": 55,
   "metadata": {},
   "outputs": [],
   "source": [
    "#fitting model\n",
    "LR=LinearRegression()\n",
    "LR.fit(X_train,y_train)\n",
    "y_pred=LR.predict(X_test)"
   ]
  },
  {
   "cell_type": "code",
   "execution_count": 56,
   "metadata": {},
   "outputs": [
    {
     "name": "stdout",
     "output_type": "stream",
     "text": [
      "Coefficients: \n",
      " [ 4.28855243e-01 -4.89501003e-04 -3.64600289e-07 -2.79308328e-02\n",
      "  2.01709780e-01 -1.58136819e-01 -2.50927345e-01 -9.03101158e-02\n",
      "  5.87702969e-02 -8.65969563e-02  2.56500160e-03  5.39624737e-03\n",
      " -5.53100886e-04]\n",
      "MSLE : 0.0023425356851414863\n",
      "Root MSLE : 0.0483997488127933\n",
      "R2 Score : 0.6328296787008652 or 63.283%\n"
     ]
    }
   ],
   "source": [
    "#calculating error/accuracy\n",
    "y_test_1,y_pred_1=remove_neg(y_test,y_pred)\n",
    "r1_lr=result(y_test_1,y_pred_1)\n",
    "print('Coefficients: \\n', LR.coef_)\n",
    "print(\"MSLE : {}\".format(r1_lr[0]))\n",
    "print(\"Root MSLE : {}\".format(r1_lr[1]))\n",
    "print(\"R2 Score : {} or {}%\".format(r1_lr[2],r1_lr[3]))\n",
    "accu['Linear Regression']=r1_lr"
   ]
  },
  {
   "cell_type": "markdown",
   "metadata": {},
   "source": [
    "## 2) Ridge regression"
   ]
  },
  {
   "cell_type": "code",
   "execution_count": 57,
   "metadata": {},
   "outputs": [],
   "source": [
    "#model object and fitting model\n",
    "RR=Ridge(alpha=25,solver='auto')\n",
    "RR.fit(X_train,y_train)\n",
    "y_pred=RR.predict(X_test)"
   ]
  },
  {
   "cell_type": "code",
   "execution_count": 58,
   "metadata": {},
   "outputs": [
    {
     "name": "stdout",
     "output_type": "stream",
     "text": [
      "MSLE : 0.0023425390329438016\n",
      "Root MSLE : 0.048399783397695094\n",
      "R2 Score : 0.6328290453407508 or 63.2829%\n"
     ]
    }
   ],
   "source": [
    "#model evaluation\n",
    "\n",
    "y_test_2,y_pred_2=remove_neg(y_test,y_pred)\n",
    "r2_ridge=result(y_test_2,y_pred_2)\n",
    "print(\"MSLE : {}\".format(r2_ridge[0]))\n",
    "print(\"Root MSLE : {}\".format(r2_ridge[1]))\n",
    "print(\"R2 Score : {} or {}%\".format(r2_ridge[2],r2_ridge[3]))\n",
    "accu['Ridge Regression']=r2_ridge"
   ]
  },
  {
   "cell_type": "markdown",
   "metadata": {},
   "source": [
    "## 3) Lasso Regression"
   ]
  },
  {
   "cell_type": "code",
   "execution_count": 59,
   "metadata": {},
   "outputs": [],
   "source": [
    "#model object and fitting it\n",
    "lasso=Lasso(alpha=0.0001)\n",
    "lasso.fit(X_train,y_train)\n",
    "y_pred=lasso.predict(X_test)"
   ]
  },
  {
   "cell_type": "code",
   "execution_count": 60,
   "metadata": {},
   "outputs": [
    {
     "name": "stdout",
     "output_type": "stream",
     "text": [
      "MSLE : 0.0023425745522972045\n",
      "Root MSLE : 0.04840015033341533\n",
      "R2 Score : 0.6328266514342947 or 63.2827%\n"
     ]
    }
   ],
   "source": [
    "#model evaluation\n",
    "y_test_3,y_pred_3=remove_neg(y_test,y_pred)\n",
    "r3_lasso=result(y_test_3,y_pred_3)\n",
    "print(\"MSLE : {}\".format(r3_lasso[0]))\n",
    "print(\"Root MSLE : {}\".format(r3_lasso[1]))\n",
    "print(\"R2 Score : {} or {}%\".format(r3_lasso[2],r3_lasso[3]))\n",
    "accu['Lasso Regression']=r3_lasso"
   ]
  },
  {
   "cell_type": "markdown",
   "metadata": {},
   "source": [
    "## 4) KNN"
   ]
  },
  {
   "cell_type": "code",
   "execution_count": 61,
   "metadata": {},
   "outputs": [
    {
     "name": "stdout",
     "output_type": "stream",
     "text": [
      "K = 1  , Root MSLE = 0.04424952246868622\n",
      "K = 2  , Root MSLE = 0.04178549009709436\n",
      "K = 3  , Root MSLE = 0.04153148866727402\n",
      "K = 4  , Root MSLE = 0.04204435742575057\n",
      "K = 5  , Root MSLE = 0.04248989305074782\n",
      "K = 6  , Root MSLE = 0.042991018060607546\n",
      "K = 7  , Root MSLE = 0.04355155735678121\n",
      "K = 8  , Root MSLE = 0.04402494446458199\n",
      "K = 9  , Root MSLE = 0.044371123110842785\n"
     ]
    }
   ],
   "source": [
    "#estimating MSLE for k=1-9\n",
    "R_MSLE=[]\n",
    "for i in range(1,10):\n",
    "    KNN=KNeighborsRegressor(n_neighbors=i)\n",
    "    KNN.fit(X_train,y_train)\n",
    "    y_pred=KNN.predict(X_test)\n",
    "    error=np.sqrt(mean_squared_log_error(y_test, y_pred))\n",
    "    R_MSLE.append(error)\n",
    "    print(\"K =\",i,\" , Root MSLE =\",error)"
   ]
  },
  {
   "cell_type": "code",
   "execution_count": 62,
   "metadata": {},
   "outputs": [
    {
     "data": {
      "image/png": "[encoded data removed]",
      "text/plain": [
       "<Figure size 800x400 with 1 Axes>"
      ]
     },
     "metadata": {},
     "output_type": "display_data"
    }
   ],
   "source": [
    "#plotting error\n",
    "\n",
    "curve = pd.DataFrame(R_MSLE) #elbow curve \n",
    "plt.figure(figsize=(8,4))\n",
    "plt.xticks(list(range(1,10)), list(range(1,10)), rotation='horizontal')\n",
    "plt.plot(list(range(1,10)),R_MSLE)\n",
    "plt.xlabel('K')\n",
    "plt.ylabel('MSLE')\n",
    "plt.title('Error Plot for Each K')\n",
    "plt.savefig('KNN-Error-Plot.jpg')\n",
    "plt.show()"
   ]
  },
  {
   "cell_type": "code",
   "execution_count": 63,
   "metadata": {},
   "outputs": [],
   "source": [
    "#model implementation\n",
    "KNN=KNeighborsRegressor(n_neighbors=10) \n",
    "KNN.fit(X_train,y_train)\n",
    "y_pred=KNN.predict(X_test)"
   ]
  },
  {
   "cell_type": "code",
   "execution_count": 64,
   "metadata": {},
   "outputs": [
    {
     "name": "stdout",
     "output_type": "stream",
     "text": [
      "MSLE : 0.0020068840325899364\n",
      "Root MSLE : 0.04479825925847941\n",
      "R2 Score : 0.6914932032770345 or 69.1493%\n"
     ]
    }
   ],
   "source": [
    "#model evaluation\n",
    "r4_knn=result(y_test,y_pred)\n",
    "print(\"MSLE : {}\".format(r4_knn[0]))\n",
    "print(\"Root MSLE : {}\".format(r4_knn[1]))\n",
    "print(\"R2 Score : {} or {}%\".format(r4_knn[2],r4_knn[3]))\n",
    "accu['KNN']=r4_knn"
   ]
  },
  {
   "cell_type": "code",
   "execution_count": 65,
   "metadata": {},
   "outputs": [],
   "source": [
    "accu.to_csv('errors.csv')"
   ]
  },
  {
   "cell_type": "markdown",
   "metadata": {},
   "source": [
    "### 5) Random Forest"
   ]
  },
  {
   "cell_type": "code",
   "execution_count": 66,
   "metadata": {
    "scrolled": true
   },
   "outputs": [],
   "source": [
    "RFR = RandomForestRegressor(n_estimators=180,random_state=0, min_samples_leaf=1, max_features=0.5, n_jobs=-1, oob_score=True)\n",
    "RFR.fit(X_train,y_train)\n",
    "y_pred = RFR.predict(X_test)"
   ]
  },
  {
   "cell_type": "code",
   "execution_count": 67,
   "metadata": {},
   "outputs": [
    {
     "name": "stdout",
     "output_type": "stream",
     "text": [
      "MSLE : 0.0005721503261446499\n",
      "Root MSLE : 0.023919664005680553\n",
      "R2 Score : 0.9164946773987046 or 91.6495%\n"
     ]
    }
   ],
   "source": [
    "r5_rf=result(y_test,y_pred)\n",
    "print(\"MSLE : {}\".format(r5_rf[0]))\n",
    "print(\"Root MSLE : {}\".format(r5_rf[1]))\n",
    "print(\"R2 Score : {} or {}%\".format(r5_rf[2],r5_rf[3]))\n",
    "accu['RandomForest Regressor']=r5_rf"
   ]
  },
  {
   "cell_type": "markdown",
   "metadata": {},
   "source": [
    "### 6) Bagging Regressor"
   ]
  },
  {
   "cell_type": "code",
   "execution_count": 68,
   "metadata": {},
   "outputs": [],
   "source": [
    "#model implementation\n",
    "baggReg=BaggingRegressor(base_estimator=DecisionTreeRegressor(max_depth=20),n_estimators=50, random_state=1,\n",
    "                         max_samples=1.0, max_features=1.0, bootstrap=False, \n",
    "                         bootstrap_features=False, oob_score=False, warm_start=False, n_jobs=-1, verbose=0)\n",
    "baggReg.fit(X_train,y_train)\n",
    "y_pred=baggReg.predict(X_test)"
   ]
  },
  {
   "cell_type": "code",
   "execution_count": 69,
   "metadata": {},
   "outputs": [
    {
     "name": "stdout",
     "output_type": "stream",
     "text": [
      "MSLE : 0.0010737781276922828\n",
      "Root MSLE : 0.03276855394570048\n",
      "R2 Score : 0.84122759777592 or 84.1228%\n"
     ]
    }
   ],
   "source": [
    "#model evaluation\n",
    "r6_br=result(y_test,y_pred)\n",
    "print(\"MSLE : {}\".format(r6_br[0]))\n",
    "print(\"Root MSLE : {}\".format(r6_br[1]))\n",
    "print(\"R2 Score : {} or {}%\".format(r6_br[2],r6_br[3]))"
   ]
  },
  {
   "cell_type": "code",
   "execution_count": 70,
   "metadata": {},
   "outputs": [],
   "source": [
    "accu['Bagging Regressor']=r6_br\n",
    "accu.to_csv('errors.csv')"
   ]
  },
  {
   "cell_type": "markdown",
   "metadata": {},
   "source": [
    "### 7) Adaboost"
   ]
  },
  {
   "cell_type": "code",
   "execution_count": 71,
   "metadata": {},
   "outputs": [],
   "source": [
    "#model implementation\n",
    "ABR = AdaBoostRegressor(\n",
    "    DecisionTreeRegressor(max_depth=24),\n",
    "    n_estimators=200,learning_rate=0.6\n",
    ")\n",
    "\n",
    "ABR.fit(X_train, y_train)\n",
    "y_pred = ABR.predict(X_test)"
   ]
  },
  {
   "cell_type": "code",
   "execution_count": 72,
   "metadata": {},
   "outputs": [
    {
     "name": "stdout",
     "output_type": "stream",
     "text": [
      "MSLE : 0.0006101884215245187\n",
      "Root MSLE : 0.024701992258207003\n",
      "R2 Score : 0.909984641577164 or 90.9985%\n"
     ]
    }
   ],
   "source": [
    "#model evaluation\n",
    "r7_ab=result(y_test,y_pred)\n",
    "print(\"MSLE : {}\".format(r7_ab[0]))\n",
    "print(\"Root MSLE : {}\".format(r7_ab[1]))\n",
    "print(\"R2 Score : {} or {}%\".format(r7_ab[2],r7_ab[3]))"
   ]
  },
  {
   "cell_type": "code",
   "execution_count": 73,
   "metadata": {},
   "outputs": [],
   "source": [
    "accu['AdaBoost Regressor']=r7_ab\n",
    "accu.to_csv('errors.csv')"
   ]
  },
  {
   "cell_type": "markdown",
   "metadata": {},
   "source": [
    "### 8) XGBOOST"
   ]
  },
  {
   "cell_type": "code",
   "execution_count": 74,
   "metadata": {},
   "outputs": [],
   "source": [
    "#model implementation and fitting data\n",
    "xg_reg = xgb.XGBRegressor(objective ='reg:squarederror', learning_rate = 0.4,\n",
    "                max_depth = 24, alpha = 5, n_estimators = 200)\n",
    "xg_reg.fit(X_train,y_train)\n",
    "y_pred = xg_reg.predict(X_test)"
   ]
  },
  {
   "cell_type": "code",
   "execution_count": 75,
   "metadata": {},
   "outputs": [
    {
     "name": "stdout",
     "output_type": "stream",
     "text": [
      "MSLE : 0.0005379217614536703\n",
      "Root MSLE : 0.02319314039654118\n",
      "R2 Score : 0.9214520232865577 or 92.1452%\n"
     ]
    }
   ],
   "source": [
    "#model evaluation\n",
    "y_test_1,y_pred_1=remove_neg(y_test,y_pred)\n",
    "r8_xg=result(y_test_1,y_pred_1)\n",
    "print(\"MSLE : {}\".format(r8_xg[0]))\n",
    "print(\"Root MSLE : {}\".format(r8_xg[1]))\n",
    "print(\"R2 Score : {} or {}%\".format(r8_xg[2],r8_xg[3]))"
   ]
  },
  {
   "cell_type": "code",
   "execution_count": 76,
   "metadata": {},
   "outputs": [],
   "source": [
    "accu['XGBoost Regressor']=r8_xg\n",
    "accu.to_csv('errors.csv')"
   ]
  },
  {
   "cell_type": "markdown",
   "metadata": {},
   "source": [
    "# Overall Result"
   ]
  },
  {
   "cell_type": "code",
   "execution_count": 77,
   "metadata": {},
   "outputs": [
    {
     "data": {
      "text/html": [
       "<div>\n",
       "<style scoped>\n",
       "    .dataframe tbody tr th:only-of-type {\n",
       "        vertical-align: middle;\n",
       "    }\n",
       "\n",
       "    .dataframe tbody tr th {\n",
       "        vertical-align: top;\n",
       "    }\n",
       "\n",
       "    .dataframe thead th {\n",
       "        text-align: right;\n",
       "    }\n",
       "</style>\n",
       "<table border=\"1\" class=\"dataframe\">\n",
       "  <thead>\n",
       "    <tr style=\"text-align: right;\">\n",
       "      <th></th>\n",
       "      <th>Linear Regression</th>\n",
       "      <th>Ridge Regression</th>\n",
       "      <th>Lasso Regression</th>\n",
       "      <th>KNN</th>\n",
       "      <th>RandomForest Regressor</th>\n",
       "      <th>Bagging Regressor</th>\n",
       "      <th>AdaBoost Regressor</th>\n",
       "      <th>XGBoost Regressor</th>\n",
       "    </tr>\n",
       "  </thead>\n",
       "  <tbody>\n",
       "    <tr>\n",
       "      <th>MSLE</th>\n",
       "      <td>0.002343</td>\n",
       "      <td>0.002343</td>\n",
       "      <td>0.002343</td>\n",
       "      <td>0.002007</td>\n",
       "      <td>0.000572</td>\n",
       "      <td>0.001074</td>\n",
       "      <td>0.000610</td>\n",
       "      <td>0.000538</td>\n",
       "    </tr>\n",
       "    <tr>\n",
       "      <th>Root MSLE</th>\n",
       "      <td>0.048400</td>\n",
       "      <td>0.048400</td>\n",
       "      <td>0.048400</td>\n",
       "      <td>0.044798</td>\n",
       "      <td>0.023920</td>\n",
       "      <td>0.032769</td>\n",
       "      <td>0.024702</td>\n",
       "      <td>0.023193</td>\n",
       "    </tr>\n",
       "    <tr>\n",
       "      <th>R2 Score</th>\n",
       "      <td>0.632830</td>\n",
       "      <td>0.632829</td>\n",
       "      <td>0.632827</td>\n",
       "      <td>0.691493</td>\n",
       "      <td>0.916495</td>\n",
       "      <td>0.841228</td>\n",
       "      <td>0.909985</td>\n",
       "      <td>0.921452</td>\n",
       "    </tr>\n",
       "    <tr>\n",
       "      <th>Accuracy(%)</th>\n",
       "      <td>63.283000</td>\n",
       "      <td>63.282900</td>\n",
       "      <td>63.282700</td>\n",
       "      <td>69.149300</td>\n",
       "      <td>91.649500</td>\n",
       "      <td>84.122800</td>\n",
       "      <td>90.998500</td>\n",
       "      <td>92.145200</td>\n",
       "    </tr>\n",
       "  </tbody>\n",
       "</table>\n",
       "</div>"
      ],
      "text/plain": [
       "             Linear Regression  Ridge Regression  Lasso Regression        KNN  \\\n",
       "MSLE                  0.002343          0.002343          0.002343   0.002007   \n",
       "Root MSLE             0.048400          0.048400          0.048400   0.044798   \n",
       "R2 Score              0.632830          0.632829          0.632827   0.691493   \n",
       "Accuracy(%)          63.283000         63.282900         63.282700  69.149300   \n",
       "\n",
       "             RandomForest Regressor  Bagging Regressor  AdaBoost Regressor  \\\n",
       "MSLE                       0.000572           0.001074            0.000610   \n",
       "Root MSLE                  0.023920           0.032769            0.024702   \n",
       "R2 Score                   0.916495           0.841228            0.909985   \n",
       "Accuracy(%)               91.649500          84.122800           90.998500   \n",
       "\n",
       "             XGBoost Regressor  \n",
       "MSLE                  0.000538  \n",
       "Root MSLE             0.023193  \n",
       "R2 Score              0.921452  \n",
       "Accuracy(%)          92.145200  "
      ]
     },
     "execution_count": 77,
     "metadata": {},
     "output_type": "execute_result"
    }
   ],
   "source": [
    "accu=pd.read_csv('./errors.csv',index_col=0)\n",
    "accu"
   ]
  },
  {
   "cell_type": "code",
   "execution_count": 78,
   "metadata": {},
   "outputs": [],
   "source": [
    "import pickle\n",
    "\n",
    "with open(\"xg_reg.pkl\",\"wb\") as file:\n",
    "    pickle.dump(xg_reg,file)"
   ]
  },
  {
   "cell_type": "code",
   "execution_count": 101,
   "metadata": {},
   "outputs": [],
   "source": [
    "pickle.dump(norm, open('StandardScaler.sav', 'wb'))\n"
   ]
  },
  {
   "cell_type": "code",
   "execution_count": 102,
   "metadata": {},
   "outputs": [],
   "source": [
    "standardscaler= pickle.load(open('StandardScaler.sav', 'rb'))\n"
   ]
  },
  {
   "cell_type": "code",
   "execution_count": 163,
   "metadata": {},
   "outputs": [],
   "source": [
    "data = [[2014.0, 6052]]\n",
    "# Example data with both 'year' and 'odometer'\n",
    "columns = ['year', 'odometer']\n",
    "year_odometer = pd.DataFrame(data=data, columns=columns)\n",
    "\n",
    "# Transform the data using the loaded StandardScaler\n",
    "scaled_data1 = standardscaler.transform(year_odometer[['year']])  # Transform using both 'year' and 'odometer'\n",
    "scaled_data2 = standardscaler.transform(year_odometer[['odometer']])  # Transform using both 'year' and 'odometer'\n",
    "\n",
    "# Convert the scaled data to a list and print\n",
    "year1 = scaled_data1[0][0]\n",
    "odometer2 = scaled_data2[0][0]"
   ]
  },
  {
   "cell_type": "code",
   "execution_count": 162,
   "metadata": {},
   "outputs": [
    {
     "name": "stdout",
     "output_type": "stream",
     "text": [
      "0.2740582659381242\n"
     ]
    }
   ],
   "source": []
  },
  {
   "cell_type": "code",
   "execution_count": 156,
   "metadata": {},
   "outputs": [
    {
     "name": "stdout",
     "output_type": "stream",
     "text": [
      "0.274058266\n"
     ]
    }
   ],
   "source": [
    "print(scaled_data1[0][0].__round__(9))"
   ]
  },
  {
   "cell_type": "code",
   "execution_count": 115,
   "metadata": {},
   "outputs": [
    {
     "data": {
      "text/html": [
       "<div>\n",
       "<style scoped>\n",
       "    .dataframe tbody tr th:only-of-type {\n",
       "        vertical-align: middle;\n",
       "    }\n",
       "\n",
       "    .dataframe tbody tr th {\n",
       "        vertical-align: top;\n",
       "    }\n",
       "\n",
       "    .dataframe thead th {\n",
       "        text-align: right;\n",
       "    }\n",
       "</style>\n",
       "<table border=\"1\" class=\"dataframe\">\n",
       "  <thead>\n",
       "    <tr style=\"text-align: right;\">\n",
       "      <th></th>\n",
       "      <th>year</th>\n",
       "      <th>manufacturer</th>\n",
       "      <th>model</th>\n",
       "      <th>condition</th>\n",
       "      <th>cylinders</th>\n",
       "      <th>fuel</th>\n",
       "      <th>odometer</th>\n",
       "      <th>title_status</th>\n",
       "      <th>transmission</th>\n",
       "      <th>drive</th>\n",
       "      <th>type</th>\n",
       "      <th>paint_color</th>\n",
       "      <th>state</th>\n",
       "      <th>price</th>\n",
       "    </tr>\n",
       "  </thead>\n",
       "  <tbody>\n",
       "    <tr>\n",
       "      <th>290407</th>\n",
       "      <td>0.638710</td>\n",
       "      <td>23</td>\n",
       "      <td>15804</td>\n",
       "      <td>2</td>\n",
       "      <td>5</td>\n",
       "      <td>2</td>\n",
       "      <td>-1.113087</td>\n",
       "      <td>0</td>\n",
       "      <td>2</td>\n",
       "      <td>1</td>\n",
       "      <td>7</td>\n",
       "      <td>10</td>\n",
       "      <td>38</td>\n",
       "      <td>10.239603</td>\n",
       "    </tr>\n",
       "    <tr>\n",
       "      <th>115121</th>\n",
       "      <td>0.456384</td>\n",
       "      <td>7</td>\n",
       "      <td>8044</td>\n",
       "      <td>1</td>\n",
       "      <td>3</td>\n",
       "      <td>2</td>\n",
       "      <td>-0.505233</td>\n",
       "      <td>0</td>\n",
       "      <td>0</td>\n",
       "      <td>0</td>\n",
       "      <td>10</td>\n",
       "      <td>5</td>\n",
       "      <td>13</td>\n",
       "      <td>10.373460</td>\n",
       "    </tr>\n",
       "  </tbody>\n",
       "</table>\n",
       "</div>"
      ],
      "text/plain": [
       "            year  manufacturer  model  condition  cylinders  fuel  odometer  \\\n",
       "290407  0.638710            23  15804          2          5     2 -1.113087   \n",
       "115121  0.456384             7   8044          1          3     2 -0.505233   \n",
       "\n",
       "        title_status  transmission  drive  type  paint_color  state      price  \n",
       "290407             0             2      1     7           10     38  10.239603  \n",
       "115121             0             0      0    10            5     13  10.373460  "
      ]
     },
     "execution_count": 115,
     "metadata": {},
     "output_type": "execute_result"
    }
   ],
   "source": [
    "\n",
    "df.sample(2)"
   ]
  },
  {
   "cell_type": "code",
   "execution_count": 119,
   "metadata": {},
   "outputs": [],
   "source": [
    "X2 =df.iloc[:,:-1]"
   ]
  },
  {
   "cell_type": "code",
   "execution_count": 167,
   "metadata": {},
   "outputs": [
    {
     "data": {
      "text/plain": [
       "Index(['year', 'manufacturer', 'model', 'condition', 'cylinders', 'fuel',\n",
       "       'odometer', 'title_status', 'transmission', 'drive', 'type',\n",
       "       'paint_color', 'state'],\n",
       "      dtype='object')"
      ]
     },
     "execution_count": 167,
     "metadata": {},
     "output_type": "execute_result"
    }
   ],
   "source": [
    "X2.columns"
   ]
  },
  {
   "cell_type": "code",
   "execution_count": 168,
   "metadata": {},
   "outputs": [
    {
     "name": "stdout",
     "output_type": "stream",
     "text": [
      "9060.651\n",
      "       year  manufacturer  model  condition  cylinders  fuel    odometer  \\\n",
      "0  0.274058            23  15804          2          5     2  736.505063   \n",
      "\n",
      "   title_status  transmission  drive  type  paint_color  state  \n",
      "0             0             1      2     5            6     24  \n"
     ]
    }
   ],
   "source": [
    "test =pd.DataFrame(data=[[year1,23,15804,2,5,2,odometer2,0,1,2,5,6,24]],columns=X2.columns)\n",
    "pred = xg_reg.predict(test)\n",
    "price=np.exp(pred[0])\n",
    "print(price)\n"
   ]
  },
  {
   "cell_type": "code",
   "execution_count": 169,
   "metadata": {},
   "outputs": [
    {
     "name": "stdout",
     "output_type": "stream",
     "text": [
      "       year  manufacturer  model  condition  cylinders  fuel    odometer  \\\n",
      "0  0.274058            23  15804          2          5     2  736.505063   \n",
      "\n",
      "   title_status  transmission  drive  type  paint_color  state  \n",
      "0             0             1      2     5            6     24  \n"
     ]
    }
   ],
   "source": [
    "print(test)"
   ]
  },
  {
   "cell_type": "code",
   "execution_count": 133,
   "metadata": {},
   "outputs": [
    {
     "data": {
      "text/plain": [
       "f-150                   6750\n",
       "silverado 1500          4311\n",
       "1500                    3624\n",
       "g series                3293\n",
       "camry                   2692\n",
       "                        ... \n",
       "express 3500 1 ton         1\n",
       "cooper s 4-door            1\n",
       "f-650 extended cab         1\n",
       "Wrangler Rubicon 392       1\n",
       "96 Suburban                1\n",
       "Name: model, Length: 23753, dtype: int64"
      ]
     },
     "execution_count": 133,
     "metadata": {},
     "output_type": "execute_result"
    }
   ],
   "source": [
    "df2['model'].value_counts()"
   ]
  },
  {
   "cell_type": "code",
   "execution_count": 141,
   "metadata": {},
   "outputs": [
    {
     "name": "stdout",
     "output_type": "stream",
     "text": [
      "Encoded label 3 corresponds to model: '99 H1 Hummer\n"
     ]
    }
   ],
   "source": [
    "encoded_labels = le.fit_transform(df2['model'])\n",
    "\n",
    "# Create a dictionary to map encoded labels to original model names\n",
    "encoded_to_model = dict(zip(encoded_labels, df2['model']))\n",
    "\n",
    "# Now you can use 'encoded_to_model' to get the original model names from encoded labels\n",
    "encoded_label = 3  # Change this to the desired encoded label\n",
    "original_model_name = encoded_to_model.get(encoded_label)\n",
    "\n",
    "print(f\"Encoded label {encoded_label} corresponds to model: {original_model_name}\")\n"
   ]
  },
  {
   "cell_type": "code",
   "execution_count": 151,
   "metadata": {},
   "outputs": [
    {
     "data": {
      "text/plain": [
       "Index(['year', 'manufacturer', 'model', 'condition', 'cylinders', 'fuel',\n",
       "       'odometer', 'title_status', 'transmission', 'drive', 'type',\n",
       "       'paint_color', 'state', 'price'],\n",
       "      dtype='object')"
      ]
     },
     "execution_count": 151,
     "metadata": {},
     "output_type": "execute_result"
    }
   ],
   "source": [
    "df.columns"
   ]
  },
  {
   "cell_type": "code",
   "execution_count": 166,
   "metadata": {},
   "outputs": [],
   "source": [
    "pickle.dump(xg_reg, open('XGBoostDeploy.sav', 'wb'))"
   ]
  },
  {
   "cell_type": "code",
   "execution_count": null,
   "metadata": {},
   "outputs": [],
   "source": []
  }
 ],
 "metadata": {
  "kernelspec": {
   "display_name": "Python 3 (ipykernel)",
   "language": "python",
   "name": "python3"
  },
  "language_info": {
   "codemirror_mode": {
    "name": "ipython",
    "version": 3
   },
   "file_extension": ".py",
   "mimetype": "text/x-python",
   "name": "python",
   "nbconvert_exporter": "python",
   "pygments_lexer": "ipython3",
   "version": "3.10.12"
  }
 },
 "nbformat": 4,
 "nbformat_minor": 4
}
